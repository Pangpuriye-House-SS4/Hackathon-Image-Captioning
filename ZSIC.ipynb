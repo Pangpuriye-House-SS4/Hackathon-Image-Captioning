{
 "cells": [
  {
   "cell_type": "code",
   "execution_count": 4,
   "metadata": {
    "metadata": {}
   },
   "outputs": [],
   "source": [
    "#testing code please ignore\n",
    "from CLIPSimilarity import CLIPSimilarity\n",
    "import pandas as pd\n",
    "import requests\n",
    "\n",
    "from PIL import Image\n",
    "import numpy as np\n",
    "\n",
    "#testing data, replace with a dataframe from a csv file with format [PIL.Image,caption,caption,caption,caption....]\n",
    "\n",
    "url = \"http://images.cocodataset.org/val2017/000000039769.jpg\"\n",
    "\n",
    "image = Image.open(requests.get(url, stream=True).raw)\n",
    "text=[image,\"a photo of two cats\",\"cats on a couch\",\"แมวนอนอยู่บนโซฟา\",\"two cats\",\"cats and remotes on a couch\",\"dogs on a couch\", \"ปลาทูแม่กลอง\" ]\n",
    "\n",
    "df = pd.DataFrame([text])"
   ]
  },
  {
   "cell_type": "code",
   "execution_count": 5,
   "metadata": {},
   "outputs": [
    {
     "data": {
      "text/html": [
       "<div>\n",
       "<style scoped>\n",
       "    .dataframe tbody tr th:only-of-type {\n",
       "        vertical-align: middle;\n",
       "    }\n",
       "\n",
       "    .dataframe tbody tr th {\n",
       "        vertical-align: top;\n",
       "    }\n",
       "\n",
       "    .dataframe thead th {\n",
       "        text-align: right;\n",
       "    }\n",
       "</style>\n",
       "<table border=\"1\" class=\"dataframe\">\n",
       "  <thead>\n",
       "    <tr style=\"text-align: right;\">\n",
       "      <th></th>\n",
       "      <th>0</th>\n",
       "      <th>1</th>\n",
       "      <th>2</th>\n",
       "      <th>3</th>\n",
       "      <th>4</th>\n",
       "      <th>5</th>\n",
       "      <th>6</th>\n",
       "      <th>0</th>\n",
       "      <th>1</th>\n",
       "      <th>2</th>\n",
       "      <th>3</th>\n",
       "      <th>4</th>\n",
       "      <th>5</th>\n",
       "      <th>6</th>\n",
       "    </tr>\n",
       "  </thead>\n",
       "  <tbody>\n",
       "    <tr>\n",
       "      <th>0</th>\n",
       "      <td>tensor(0.1475)</td>\n",
       "      <td>tensor(0.1454)</td>\n",
       "      <td>tensor(0.1448)</td>\n",
       "      <td>tensor(0.1443)</td>\n",
       "      <td>tensor(0.1440)</td>\n",
       "      <td>tensor(0.1375)</td>\n",
       "      <td>tensor(0.1366)</td>\n",
       "      <td>cats and remotes on a couch</td>\n",
       "      <td>a photo of two cats</td>\n",
       "      <td>cats on a couch</td>\n",
       "      <td>แมวนอนอยู่บนโซฟา</td>\n",
       "      <td>two cats</td>\n",
       "      <td>ปลาทูแม่กลอง</td>\n",
       "      <td>dogs on a couch</td>\n",
       "    </tr>\n",
       "  </tbody>\n",
       "</table>\n",
       "</div>"
      ],
      "text/plain": [
       "                0               1               2               3  \\\n",
       "0  tensor(0.1475)  tensor(0.1454)  tensor(0.1448)  tensor(0.1443)   \n",
       "\n",
       "                4               5               6  \\\n",
       "0  tensor(0.1440)  tensor(0.1375)  tensor(0.1366)   \n",
       "\n",
       "                             0                    1                2  \\\n",
       "0  cats and remotes on a couch  a photo of two cats  cats on a couch   \n",
       "\n",
       "                  3         4             5                6  \n",
       "0  แมวนอนอยู่บนโซฟา  two cats  ปลาทูแม่กลอง  dogs on a couch  "
      ]
     },
     "execution_count": 5,
     "metadata": {},
     "output_type": "execute_result"
    }
   ],
   "source": [
    "k = 7\n",
    "#output the top k most similar captions to the image\n",
    "newdf = df.apply(CLIPSimilarity.similarityScore, args = (k,),axis = 1)\n",
    "newdf.head()"
   ]
  },
  {
   "cell_type": "code",
   "execution_count": 4,
   "metadata": {
    "metadata": {}
   },
   "outputs": [],
   "source": [
    "data = [\"I just try some test and I don't know what going on this time. I just want to sleep\"]"
   ]
  },
  {
   "cell_type": "code",
   "execution_count": null,
   "metadata": {},
   "outputs": [],
   "source": [
    "\n",
    "from transformers import AutoModelForSeq2SeqLM, AutoTokenizer\n",
    "\n",
    "tokenizer = AutoTokenizer.from_pretrained(\"facebook/nllb-200-distilled-600M\")\n",
    "model = AutoModelForSeq2SeqLM.from_pretrained(\"facebook/nllb-200-distilled-600M\")\n",
    "\n"
   ]
  },
  {
   "cell_type": "code",
   "execution_count": null,
   "metadata": {
    "metadata": {}
   },
   "outputs": [],
   "source": [
    "\n",
    "for k in data: ## Change to text for translate\n",
    "  inputs = tokenizer(k, return_tensors=\"pt\")\n",
    "  translated_tokens = model.generate(\n",
    "      **inputs, \n",
    "      num_beams=10,\n",
    "      num_return_sequences=10,\n",
    "      no_repeat_ngram_size=1,\n",
    "      forced_bos_token_id=tokenizer.lang_code_to_id[\"tha_Thai\"], max_length=30\n",
    "  )\n",
    "  print(tokenizer.batch_decode(translated_tokens, skip_special_tokens=True))"
   ]
  },
  {
   "cell_type": "code",
   "execution_count": null,
   "metadata": {
    "metadata": {}
   },
   "outputs": [],
   "source": [
    "PATH = r\"Image_captioning\\dataset\""
   ]
  },
  {
   "cell_type": "code",
   "execution_count": null,
   "metadata": {
    "metadata": {}
   },
   "outputs": [],
   "source": [
    "import cv2\n",
    "import os\n",
    "import numpy as np\n",
    "import matplotlib.pyplot as plt\n",
    "import pandas as pd\n",
    "import json"
   ]
  },
  {
   "cell_type": "code",
   "execution_count": null,
   "metadata": {},
   "outputs": [],
   "source": [
    "%pip install matplotlib"
   ]
  },
  {
   "cell_type": "code",
   "execution_count": null,
   "metadata": {
    "metadata": {}
   },
   "outputs": [],
   "source": [
    "json_data = json.load(open(os.path.join(PATH, r\"\\ipu24_v0.4.1_coco.json\")))"
   ]
  },
  {
   "cell_type": "code",
   "execution_count": null,
   "metadata": {
    "metadata": {}
   },
   "outputs": [],
   "source": [
    "sample_data = json_data[\"train2017/000000546597\"]"
   ]
  },
  {
   "cell_type": "code",
   "execution_count": null,
   "metadata": {
    "metadata": {}
   },
   "outputs": [],
   "source": [
    "image = cv2.imread(os.path.join(PATH, r\"test\\food\\00000.jpg\"))"
   ]
  },
  {
   "cell_type": "code",
   "execution_count": null,
   "metadata": {
    "metadata": {}
   },
   "outputs": [],
   "source": [
    "image = cv2.cvtColor(image, cv2.COLOR_BGR2RGB)\n",
    "plt.imshow(image)"
   ]
  },
  {
   "cell_type": "code",
   "execution_count": null,
   "metadata": {
    "metadata": {}
   },
   "outputs": [],
   "source": [
    "#%pip install -U sentence-transformers"
   ]
  },
  {
   "cell_type": "code",
   "execution_count": null,
   "metadata": {
    "metadata": {}
   },
   "outputs": [],
   "source": [
    "from sentence_transformers import SentenceTransformer\n",
    "from sklearn.metrics.pairwise import cosine_similarity\n",
    "MODEL_NAME = \"mrp/simcse-model-m-bert-thai-cased\"\n",
    "model = SentenceTransformer(MODEL_NAME)\n"
   ]
  },
  {
   "cell_type": "code",
   "execution_count": null,
   "metadata": {
    "metadata": {}
   },
   "outputs": [],
   "source": [
    "\n",
    "embeddings = model.encode(sample_data)\n",
    "co_sim = cosine_similarity(embeddings[0].reshape(1,-1), embeddings)[0]\n",
    "[print(text,cs) for text, cs in zip(sample_data, co_sim)];"
   ]
  },
  {
   "cell_type": "code",
   "execution_count": null,
   "metadata": {
    "metadata": {}
   },
   "outputs": [],
   "source": [
    "print(sample_data[np.argmax(co_sim)])"
   ]
  }
 ],
 "metadata": {
  "kernelspec": {
   "display_name": ".venv",
   "language": "python",
   "name": "python3"
  },
  "language_info": {
   "codemirror_mode": {
    "name": "ipython",
    "version": 3
   },
   "file_extension": ".py",
   "mimetype": "text/x-python",
   "name": "python",
   "nbconvert_exporter": "python",
   "pygments_lexer": "ipython3",
   "version": "3.10.14"
  }
 },
 "nbformat": 4,
 "nbformat_minor": 2
}
