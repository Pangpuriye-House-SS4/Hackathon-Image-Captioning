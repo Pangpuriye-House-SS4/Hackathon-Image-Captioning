{
  "cells": [
    {
      "cell_type": "code",
      "execution_count": 4,
      "metadata": {
        "id": "eHvKhloSuQnx"
      },
      "outputs": [],
      "source": [
        "import datasets\n",
        "import pandas as pd\n",
        "from pathlib import Path\n",
        "from PIL import Image\n",
        "from transformers import AutoTokenizer\n",
        "from transformers import Blip2Processor, Blip2VisionModel, Blip2QFormerModel, Blip2QFormerConfig, Blip2ForConditionalGeneration\n",
        "from transformers import AutoProcessor, Blip2ForConditionalGeneration\n",
        "import os\n",
        "import bitsandbytes as bnb\n",
        "\n",
        "import torch\n",
        "\n",
        "from peft import LoraConfig, get_peft_model, LoftQConfig\n",
        "from transformers import AutoModelForCausalLM, BitsAndBytesConfig\n",
        "from peft import (\n",
        "    LoraConfig,\n",
        "    PeftConfig,\n",
        "    get_peft_model,\n",
        "    prepare_model_for_kbit_training,\n",
        ")\n",
        "from transformers import (\n",
        "    AutoConfig,\n",
        "    AutoModelForCausalLM,\n",
        "    AutoTokenizer,\n",
        "    BitsAndBytesConfig,)"
      ]
    },
    {
      "cell_type": "code",
      "execution_count": 10,
      "metadata": {
        "colab": {
          "base_uri": "https://localhost:8080/",
          "height": 193,
          "referenced_widgets": [
            "f0b3f8bf13f34d10b0fe8cfbc871ff1e",
            "787048bad4dd447da3943f50fbba0e85",
            "808caf7af33c4f8aae378a5e2457f627",
            "4f9b0117a741421aa0f81907940e41be",
            "c2959d1a39aa4b979b6282cf9c9f7161",
            "e614afbc5bf84b918b6b490a844c46c1",
            "0ba6b962cd7b49798138e09a77d68102",
            "f0d8478db20840f58db14f99348018e7",
            "da7ee783ab334c76b80ae48c75487b02",
            "d14bf5714f864f1fa0ed9dd05a86113c",
            "93b2dd2c3fdf4c198db62146ef4c9881"
          ]
        },
        "id": "NPnPOcXb8sO6",
        "outputId": "9ec35549-e82e-4494-f3bb-bb9e346ebe32"
      },
      "outputs": [
        {
          "name": "stderr",
          "output_type": "stream",
          "text": [
            "The argument `trust_remote_code` is to be used with Auto classes. It has no effect here and is ignored.\n",
            "/usr/local/lib/python3.10/dist-packages/huggingface_hub/utils/_token.py:89: UserWarning: \n",
            "The secret `HF_TOKEN` does not exist in your Colab secrets.\n",
            "To authenticate with the Hugging Face Hub, create a token in your settings tab (https://huggingface.co/settings/tokens), set it as secret in your Google Colab and restart your session.\n",
            "You will be able to reuse this secret in all of your notebooks.\n",
            "Please note that authentication is recommended but still optional to access public models or datasets.\n",
            "  warnings.warn(\n"
          ]
        },
        {
          "data": {
            "application/vnd.jupyter.widget-view+json": {
              "model_id": "f0b3f8bf13f34d10b0fe8cfbc871ff1e",
              "version_major": 2,
              "version_minor": 0
            },
            "text/plain": [
              "Loading checkpoint shards:   0%|          | 0/2 [00:00<?, ?it/s]"
            ]
          },
          "metadata": {},
          "output_type": "display_data"
        }
      ],
      "source": [
        "from peft import LoraConfig, get_peft_model,LoftQConfig\n",
        "\n",
        "config = LoraConfig(\n",
        "    r=16,\n",
        "    lora_alpha=32,\n",
        "    lora_dropout=0.05,\n",
        "    bias=\"none\",\n",
        "    target_modules=[\"q_proj\", \"k_proj\"]\n",
        ")\n",
        "\n",
        "bnb_config = BitsAndBytesConfig(\n",
        "    load_in_4bit=True,\n",
        "    bnb_4bit_quant_type=\"nf4\",\n",
        "    bnb_4bit_compute_dtype=torch.bfloat16,\n",
        ")"
      ]
    },
    {
      "cell_type": "code",
      "execution_count": 11,
      "metadata": {
        "colab": {
          "base_uri": "https://localhost:8080/"
        },
        "id": "XTkkwJodf1LR",
        "outputId": "ac6fa3e9-e4f2-4ae8-ab48-5b5270a64282"
      },
      "outputs": [
        {
          "name": "stdout",
          "output_type": "stream",
          "text": [
            "trainable params: 5,242,880 || all params: 3,749,922,816 || trainable%: 0.13981301102065136\n"
          ]
        }
      ],
      "source": [
        "class BlipZSIC:\n",
        "    def __init__(self, bnb_config: BitsAndBytesConfig, loraConfig: LoraConfig) -> None:\n",
        "        self.base = Blip2ForConditionalGeneration.from_pretrained(\n",
        "            \"Salesforce/blip2-opt-2.7b\",  # TODO put back in \"load_in_8bit\" for model\n",
        "            device_map={\"\": 0},\n",
        "            trust_remote_code=True,\n",
        "            quantization_config=bnb_config\n",
        "        )\n",
        "        self.model = None\n",
        "        self.processor = Blip2Processor.from_pretrained(\n",
        "            \"Salesforce/blip2-opt-2.7b\")\n",
        "        self.loraConfig = loraConfig\n",
        "        self.adapterList = []\n",
        "        self.currentState = ''\n",
        "\n",
        "    def compileModel(self)->None: # compile the model into qLora\n",
        "        self.model = get_peft_model(self.base, self.loraConfig)\n",
        "        self.model.print_trainable_parameters()\n",
        "\n",
        "    def addAdapter(self,adapter:str): #pass in the adapter path to add\n",
        "        self.adapterList.append(adapter)\n",
        "        self.model.add_adapter(self.lora_config, adapter_name=adapter)\n",
        "\n",
        "    def switchAdapter(self,adapterNum:int): \n",
        "        if adapterNum != 0: #left in for clarity\n",
        "            try:\n",
        "                if self.currentState != adapterNum:\n",
        "                    self.model.set_adapter(self.adapterList[adapterNum])\n",
        "                    self.currentState = adapterNum\n",
        "                    print(f\"switched to adapter {adapterNum}\")\n",
        "            except IndexError:\n",
        "                print(\"index out of range, returning\")\n",
        "            \n",
        "        else:\n",
        "            self.model.disable_adapters()\n",
        "            self.currentState = adapterNum\n",
        "            print(\"adapters disabled\")\n",
        "\n",
        "    def forward(self,input_ids,pixel_values,modeltype = -1):\n",
        "        if modeltype != -1 :\n",
        "            self.switchAdapter(modeltype)\n",
        "        \n",
        "        return self.model(input_ids=input_ids,\n",
        "                   pixel_values=pixel_values,\n",
        "                   labels=input_ids)\n",
        "\n",
        "Blip = BlipZSIC(bnb_config,config)"
      ]
    },
    {
      "cell_type": "code",
      "execution_count": 46,
      "metadata": {
        "id": "CnS4l5WP6Orr"
      },
      "outputs": [],
      "source": [
        "from torch.utils.data import Dataset, DataLoader\n",
        "\n",
        "class ImageCaptioningDataset(Dataset):\n",
        "    def __init__(self, dataset, processor):\n",
        "        self.dataset = dataset\n",
        "        self.processor = processor\n",
        "\n",
        "    def __len__(self):\n",
        "        return len(self.dataset)\n",
        "\n",
        "    def __getitem__(self, idx):\n",
        "        item = self.dataset[idx]\n",
        "        encoding = self.processor(images=item[\"image\"], padding=\"max_length\", return_tensors=\"pt\")\n",
        "        # remove batch dimension\n",
        "        encoding = {k: v.squeeze() for k, v in encoding.items()}\n",
        "        encoding[\"text\"] = item[\"text\"]\n",
        "        return encoding\n",
        "\n",
        "def collate_fn(batch):\n",
        "    # pad the input_ids and attention_mask\n",
        "    processed_batch = {}\n",
        "    for key in batch[0].keys():+\n",
        "        if key != \"text\":\n",
        "            processed_batch[key] = torch.stack([example[key] for example in batch])\n",
        "        else:\n",
        "            text_inputs = Blip.processor.tokenizer(\n",
        "                [example[\"text\"] for example in batch], padding=True, return_tensors=\"pt\"\n",
        "            )\n",
        "            processed_batch[\"input_ids\"] = text_inputs[\"input_ids\"]\n",
        "            processed_batch[\"attention_mask\"] = text_inputs[\"attention_mask\"]\n",
        "    return processed_batch"
      ]
    },
    {
      "cell_type": "markdown",
      "metadata": {},
      "source": [
        "# Data and Dataloader setup\n"
      ]
    },
    {
      "cell_type": "code",
      "execution_count": null,
      "metadata": {
        "id": "Z0f0SiWn58cU"
      },
      "outputs": [],
      "source": [
        "images_path = list(Path(\"/root/Datasets/Images\").glob(\"*.jpg\"))\n",
        "labels = pd.read_csv(\"/root/Datasets/preprocess.csv\")\n",
        "images = [Image.open(str(images_path[0].parent / path)) for path in labels['image']]\n",
        "\n",
        "dataset = datasets.Dataset.from_dict({\"image\": images, \"text\": labels['caption']})\n",
        "dataset = dataset.train_test_split(test_size=0.1, seed=42)\n",
        "\n",
        "train_dataset = ImageCaptioningDataset(dataset['train'], Blip.processor)\n",
        "train_dataloader = DataLoader(train_dataset, shuffle=True, batch_size=4, collate_fn=collate_fn)\n",
        "\n",
        "test_dataset = ImageCaptioningDataset(dataset['test'], Blip.processor)\n",
        "test_dataloader = DataLoader(test_dataset, shuffle=True, batch_size=4, collate_fn=collate_fn)"
      ]
    },
    {
      "cell_type": "markdown",
      "metadata": {},
      "source": [
        "# Training"
      ]
    },
    {
      "cell_type": "code",
      "execution_count": null,
      "metadata": {
        "id": "dpZUR16yY6Lo"
      },
      "outputs": [],
      "source": [
        "import torch\n",
        "from tqdm import tqdm\n",
        "optimizer = torch.optim.Adam(Blip.model.parameters(), lr=5e-4)\n",
        "\n",
        "device = \"cuda\" if torch.cuda.is_available() else \"cpu\"\n",
        "\n",
        "Blip.model.train()\n",
        "\n",
        "for epoch in range(10):\n",
        "    training_loss = 0\n",
        "    print(\"Epoch:\", epoch)\n",
        "    for idx, batch in tqdm(enumerate(train_dataloader)):\n",
        "        input_ids = batch.pop(\"input_ids\").to(device)\n",
        "        pixel_values = batch.pop(\"pixel_values\").to(device)\n",
        "        outputs = Blip.forward(input_ids=input_ids,\n",
        "                        pixel_values=pixel_values,\n",
        "                        labels=input_ids)#put in a 4th value as an int to select adapters\n",
        "\n",
        "        loss = outputs.loss\n",
        "        training_loss += loss.item()\n",
        "        loss.backward()\n",
        "        optimizer.step()\n",
        "        optimizer.zero_grad()\n",
        "        \n",
        "    print(training_loss / len(train_dataloader))"
      ]
    },
    {
      "cell_type": "code",
      "execution_count": null,
      "metadata": {
        "id": "z6Hp54hHLzrt"
      },
      "outputs": [],
      "source": [
        "im = dataset['test'].select([290])['image']"
      ]
    },
    {
      "cell_type": "code",
      "execution_count": null,
      "metadata": {
        "id": "je60XdrrY6Lp"
      },
      "outputs": [],
      "source": [
        "pixel_values = processor(im, return_tensors=\"pt\").to(device).pixel_values\n",
        "model.eval()\n",
        "\n",
        "outputs = model.generate(pixel_values=pixel_values)"
      ]
    },
    {
      "cell_type": "code",
      "execution_count": null,
      "metadata": {
        "id": "kEsqK4qtY6Lp"
      },
      "outputs": [],
      "source": [
        "generated_caption = processor.batch_decode(outputs, skip_special_tokens=True)[0]\n",
        "print(generated_caption)"
      ]
    },
    {
      "cell_type": "code",
      "execution_count": null,
      "metadata": {
        "id": "ibV_KBaKJ2W7"
      },
      "outputs": [],
      "source": []
    }
  ],
  "metadata": {
    "accelerator": "GPU",
    "colab": {
      "gpuType": "T4",
      "provenance": []
    },
    "kaggle": {
      "accelerator": "nvidiaTeslaT4",
      "dataSources": [
        {
          "datasetId": 31296,
          "sourceId": 39911,
          "sourceType": "datasetVersion"
        },
        {
          "datasetId": 4836244,
          "sourceId": 8171532,
          "sourceType": "datasetVersion"
        }
      ],
      "dockerImageVersionId": 30703,
      "isGpuEnabled": true,
      "isInternetEnabled": true,
      "language": "python",
      "sourceType": "notebook"
    },
    "kernelspec": {
      "display_name": "Python 3",
      "name": "python3"
    },
    "language_info": {
      "codemirror_mode": {
        "name": "ipython",
        "version": 3
      },
      "file_extension": ".py",
      "mimetype": "text/x-python",
      "name": "python",
      "nbconvert_exporter": "python",
      "pygments_lexer": "ipython3",
      "version": "3.10.14"
    },
    "widgets": {
      "application/vnd.jupyter.widget-state+json": {
        "0ba6b962cd7b49798138e09a77d68102": {
          "model_module": "@jupyter-widgets/controls",
          "model_module_version": "1.5.0",
          "model_name": "DescriptionStyleModel",
          "state": {
            "_model_module": "@jupyter-widgets/controls",
            "_model_module_version": "1.5.0",
            "_model_name": "DescriptionStyleModel",
            "_view_count": null,
            "_view_module": "@jupyter-widgets/base",
            "_view_module_version": "1.2.0",
            "_view_name": "StyleView",
            "description_width": ""
          }
        },
        "4f9b0117a741421aa0f81907940e41be": {
          "model_module": "@jupyter-widgets/controls",
          "model_module_version": "1.5.0",
          "model_name": "HTMLModel",
          "state": {
            "_dom_classes": [],
            "_model_module": "@jupyter-widgets/controls",
            "_model_module_version": "1.5.0",
            "_model_name": "HTMLModel",
            "_view_count": null,
            "_view_module": "@jupyter-widgets/controls",
            "_view_module_version": "1.5.0",
            "_view_name": "HTMLView",
            "description": "",
            "description_tooltip": null,
            "layout": "IPY_MODEL_d14bf5714f864f1fa0ed9dd05a86113c",
            "placeholder": "​",
            "style": "IPY_MODEL_93b2dd2c3fdf4c198db62146ef4c9881",
            "value": " 2/2 [01:19&lt;00:00, 37.71s/it]"
          }
        },
        "787048bad4dd447da3943f50fbba0e85": {
          "model_module": "@jupyter-widgets/controls",
          "model_module_version": "1.5.0",
          "model_name": "HTMLModel",
          "state": {
            "_dom_classes": [],
            "_model_module": "@jupyter-widgets/controls",
            "_model_module_version": "1.5.0",
            "_model_name": "HTMLModel",
            "_view_count": null,
            "_view_module": "@jupyter-widgets/controls",
            "_view_module_version": "1.5.0",
            "_view_name": "HTMLView",
            "description": "",
            "description_tooltip": null,
            "layout": "IPY_MODEL_e614afbc5bf84b918b6b490a844c46c1",
            "placeholder": "​",
            "style": "IPY_MODEL_0ba6b962cd7b49798138e09a77d68102",
            "value": "Loading checkpoint shards: 100%"
          }
        },
        "808caf7af33c4f8aae378a5e2457f627": {
          "model_module": "@jupyter-widgets/controls",
          "model_module_version": "1.5.0",
          "model_name": "FloatProgressModel",
          "state": {
            "_dom_classes": [],
            "_model_module": "@jupyter-widgets/controls",
            "_model_module_version": "1.5.0",
            "_model_name": "FloatProgressModel",
            "_view_count": null,
            "_view_module": "@jupyter-widgets/controls",
            "_view_module_version": "1.5.0",
            "_view_name": "ProgressView",
            "bar_style": "success",
            "description": "",
            "description_tooltip": null,
            "layout": "IPY_MODEL_f0d8478db20840f58db14f99348018e7",
            "max": 2,
            "min": 0,
            "orientation": "horizontal",
            "style": "IPY_MODEL_da7ee783ab334c76b80ae48c75487b02",
            "value": 2
          }
        },
        "93b2dd2c3fdf4c198db62146ef4c9881": {
          "model_module": "@jupyter-widgets/controls",
          "model_module_version": "1.5.0",
          "model_name": "DescriptionStyleModel",
          "state": {
            "_model_module": "@jupyter-widgets/controls",
            "_model_module_version": "1.5.0",
            "_model_name": "DescriptionStyleModel",
            "_view_count": null,
            "_view_module": "@jupyter-widgets/base",
            "_view_module_version": "1.2.0",
            "_view_name": "StyleView",
            "description_width": ""
          }
        },
        "c2959d1a39aa4b979b6282cf9c9f7161": {
          "model_module": "@jupyter-widgets/base",
          "model_module_version": "1.2.0",
          "model_name": "LayoutModel",
          "state": {
            "_model_module": "@jupyter-widgets/base",
            "_model_module_version": "1.2.0",
            "_model_name": "LayoutModel",
            "_view_count": null,
            "_view_module": "@jupyter-widgets/base",
            "_view_module_version": "1.2.0",
            "_view_name": "LayoutView",
            "align_content": null,
            "align_items": null,
            "align_self": null,
            "border": null,
            "bottom": null,
            "display": null,
            "flex": null,
            "flex_flow": null,
            "grid_area": null,
            "grid_auto_columns": null,
            "grid_auto_flow": null,
            "grid_auto_rows": null,
            "grid_column": null,
            "grid_gap": null,
            "grid_row": null,
            "grid_template_areas": null,
            "grid_template_columns": null,
            "grid_template_rows": null,
            "height": null,
            "justify_content": null,
            "justify_items": null,
            "left": null,
            "margin": null,
            "max_height": null,
            "max_width": null,
            "min_height": null,
            "min_width": null,
            "object_fit": null,
            "object_position": null,
            "order": null,
            "overflow": null,
            "overflow_x": null,
            "overflow_y": null,
            "padding": null,
            "right": null,
            "top": null,
            "visibility": null,
            "width": null
          }
        },
        "d14bf5714f864f1fa0ed9dd05a86113c": {
          "model_module": "@jupyter-widgets/base",
          "model_module_version": "1.2.0",
          "model_name": "LayoutModel",
          "state": {
            "_model_module": "@jupyter-widgets/base",
            "_model_module_version": "1.2.0",
            "_model_name": "LayoutModel",
            "_view_count": null,
            "_view_module": "@jupyter-widgets/base",
            "_view_module_version": "1.2.0",
            "_view_name": "LayoutView",
            "align_content": null,
            "align_items": null,
            "align_self": null,
            "border": null,
            "bottom": null,
            "display": null,
            "flex": null,
            "flex_flow": null,
            "grid_area": null,
            "grid_auto_columns": null,
            "grid_auto_flow": null,
            "grid_auto_rows": null,
            "grid_column": null,
            "grid_gap": null,
            "grid_row": null,
            "grid_template_areas": null,
            "grid_template_columns": null,
            "grid_template_rows": null,
            "height": null,
            "justify_content": null,
            "justify_items": null,
            "left": null,
            "margin": null,
            "max_height": null,
            "max_width": null,
            "min_height": null,
            "min_width": null,
            "object_fit": null,
            "object_position": null,
            "order": null,
            "overflow": null,
            "overflow_x": null,
            "overflow_y": null,
            "padding": null,
            "right": null,
            "top": null,
            "visibility": null,
            "width": null
          }
        },
        "da7ee783ab334c76b80ae48c75487b02": {
          "model_module": "@jupyter-widgets/controls",
          "model_module_version": "1.5.0",
          "model_name": "ProgressStyleModel",
          "state": {
            "_model_module": "@jupyter-widgets/controls",
            "_model_module_version": "1.5.0",
            "_model_name": "ProgressStyleModel",
            "_view_count": null,
            "_view_module": "@jupyter-widgets/base",
            "_view_module_version": "1.2.0",
            "_view_name": "StyleView",
            "bar_color": null,
            "description_width": ""
          }
        },
        "e614afbc5bf84b918b6b490a844c46c1": {
          "model_module": "@jupyter-widgets/base",
          "model_module_version": "1.2.0",
          "model_name": "LayoutModel",
          "state": {
            "_model_module": "@jupyter-widgets/base",
            "_model_module_version": "1.2.0",
            "_model_name": "LayoutModel",
            "_view_count": null,
            "_view_module": "@jupyter-widgets/base",
            "_view_module_version": "1.2.0",
            "_view_name": "LayoutView",
            "align_content": null,
            "align_items": null,
            "align_self": null,
            "border": null,
            "bottom": null,
            "display": null,
            "flex": null,
            "flex_flow": null,
            "grid_area": null,
            "grid_auto_columns": null,
            "grid_auto_flow": null,
            "grid_auto_rows": null,
            "grid_column": null,
            "grid_gap": null,
            "grid_row": null,
            "grid_template_areas": null,
            "grid_template_columns": null,
            "grid_template_rows": null,
            "height": null,
            "justify_content": null,
            "justify_items": null,
            "left": null,
            "margin": null,
            "max_height": null,
            "max_width": null,
            "min_height": null,
            "min_width": null,
            "object_fit": null,
            "object_position": null,
            "order": null,
            "overflow": null,
            "overflow_x": null,
            "overflow_y": null,
            "padding": null,
            "right": null,
            "top": null,
            "visibility": null,
            "width": null
          }
        },
        "f0b3f8bf13f34d10b0fe8cfbc871ff1e": {
          "model_module": "@jupyter-widgets/controls",
          "model_module_version": "1.5.0",
          "model_name": "HBoxModel",
          "state": {
            "_dom_classes": [],
            "_model_module": "@jupyter-widgets/controls",
            "_model_module_version": "1.5.0",
            "_model_name": "HBoxModel",
            "_view_count": null,
            "_view_module": "@jupyter-widgets/controls",
            "_view_module_version": "1.5.0",
            "_view_name": "HBoxView",
            "box_style": "",
            "children": [
              "IPY_MODEL_787048bad4dd447da3943f50fbba0e85",
              "IPY_MODEL_808caf7af33c4f8aae378a5e2457f627",
              "IPY_MODEL_4f9b0117a741421aa0f81907940e41be"
            ],
            "layout": "IPY_MODEL_c2959d1a39aa4b979b6282cf9c9f7161"
          }
        },
        "f0d8478db20840f58db14f99348018e7": {
          "model_module": "@jupyter-widgets/base",
          "model_module_version": "1.2.0",
          "model_name": "LayoutModel",
          "state": {
            "_model_module": "@jupyter-widgets/base",
            "_model_module_version": "1.2.0",
            "_model_name": "LayoutModel",
            "_view_count": null,
            "_view_module": "@jupyter-widgets/base",
            "_view_module_version": "1.2.0",
            "_view_name": "LayoutView",
            "align_content": null,
            "align_items": null,
            "align_self": null,
            "border": null,
            "bottom": null,
            "display": null,
            "flex": null,
            "flex_flow": null,
            "grid_area": null,
            "grid_auto_columns": null,
            "grid_auto_flow": null,
            "grid_auto_rows": null,
            "grid_column": null,
            "grid_gap": null,
            "grid_row": null,
            "grid_template_areas": null,
            "grid_template_columns": null,
            "grid_template_rows": null,
            "height": null,
            "justify_content": null,
            "justify_items": null,
            "left": null,
            "margin": null,
            "max_height": null,
            "max_width": null,
            "min_height": null,
            "min_width": null,
            "object_fit": null,
            "object_position": null,
            "order": null,
            "overflow": null,
            "overflow_x": null,
            "overflow_y": null,
            "padding": null,
            "right": null,
            "top": null,
            "visibility": null,
            "width": null
          }
        }
      }
    }
  },
  "nbformat": 4,
  "nbformat_minor": 0
}
