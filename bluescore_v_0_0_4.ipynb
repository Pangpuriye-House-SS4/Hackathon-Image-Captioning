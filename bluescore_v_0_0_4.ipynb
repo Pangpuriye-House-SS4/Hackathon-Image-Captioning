{
  "nbformat": 4,
  "nbformat_minor": 0,
  "metadata": {
    "colab": {
      "provenance": []
    },
    "kernelspec": {
      "name": "python3",
      "display_name": "Python 3"
    },
    "language_info": {
      "name": "python"
    }
  },
  "cells": [
    {
      "cell_type": "code",
      "execution_count": 1,
      "metadata": {
        "colab": {
          "base_uri": "https://localhost:8080/"
        },
        "id": "BEu9VUM6_K__",
        "outputId": "e8ae4d87-e6ad-4834-b58d-776a665c92a4"
      },
      "outputs": [
        {
          "output_type": "stream",
          "name": "stdout",
          "text": [
            "Collecting sacrebleu\n",
            "  Downloading sacrebleu-2.4.2-py3-none-any.whl (106 kB)\n",
            "\u001b[2K     \u001b[90m━━━━━━━━━━━━━━━━━━━━━━━━━━━━━━━━━━━━━━━━\u001b[0m \u001b[32m106.7/106.7 kB\u001b[0m \u001b[31m2.0 MB/s\u001b[0m eta \u001b[36m0:00:00\u001b[0m\n",
            "\u001b[?25hCollecting portalocker (from sacrebleu)\n",
            "  Downloading portalocker-2.8.2-py3-none-any.whl (17 kB)\n",
            "Requirement already satisfied: regex in /usr/local/lib/python3.10/dist-packages (from sacrebleu) (2023.12.25)\n",
            "Requirement already satisfied: tabulate>=0.8.9 in /usr/local/lib/python3.10/dist-packages (from sacrebleu) (0.9.0)\n",
            "Requirement already satisfied: numpy>=1.17 in /usr/local/lib/python3.10/dist-packages (from sacrebleu) (1.25.2)\n",
            "Collecting colorama (from sacrebleu)\n",
            "  Downloading colorama-0.4.6-py2.py3-none-any.whl (25 kB)\n",
            "Requirement already satisfied: lxml in /usr/local/lib/python3.10/dist-packages (from sacrebleu) (4.9.4)\n",
            "Installing collected packages: portalocker, colorama, sacrebleu\n",
            "Successfully installed colorama-0.4.6 portalocker-2.8.2 sacrebleu-2.4.2\n"
          ]
        }
      ],
      "source": [
        "pip install sacrebleu"
      ]
    },
    {
      "cell_type": "code",
      "source": [
        "from sacrebleu import sentence_bleu"
      ],
      "metadata": {
        "id": "v1YjNE_F_Rmn"
      },
      "execution_count": 2,
      "outputs": []
    },
    {
      "cell_type": "code",
      "source": [
        "sentence_bleu('เด็กนั่งเล่นกับเด็กนั่งเล่นกับ', ['เด็กผู้หญิง ในสวนหย่อม', 'เด็กนั่งเล่นกับสุนัข', 'ผู้หญิงสวมเสื้อ เด็กนั่งเล่นกับสุนัข'], tokenize=\"flores101\") # 100.0"
      ],
      "metadata": {
        "colab": {
          "base_uri": "https://localhost:8080/"
        },
        "id": "Lk45GsV-_RjM",
        "outputId": "107144fc-9aa6-498f-f443-7a070cf38798"
      },
      "execution_count": 3,
      "outputs": [
        {
          "output_type": "execute_result",
          "data": {
            "text/plain": [
              "BLEU = 34.57 50.0/42.9/33.3/20.0 (BP = 1.000 ratio = 1.000 hyp_len = 8 ref_len = 8)"
            ]
          },
          "metadata": {},
          "execution_count": 3
        }
      ]
    },
    {
      "cell_type": "markdown",
      "source": [
        "<hr>"
      ],
      "metadata": {
        "id": "x9q0CKprAZ2H"
      }
    },
    {
      "cell_type": "code",
      "source": [
        "Pred = ['เด็กนั่งเล่นกับเด็กนั่งเล่นกับ']\n",
        "Reff = [\n",
        "    [\"This is a test translation.\", \"This is a trial translation.\", \"This is an example translation.\"],\n",
        "]"
      ],
      "metadata": {
        "id": "btdG7fa5_Rf1"
      },
      "execution_count": 4,
      "outputs": []
    },
    {
      "cell_type": "code",
      "source": [
        "sentence_bleu('เด็กนั่งเล่นกับเด็กนั่งเล่นกับ', ['เด็กผู้หญิง ในสวนหย่อม', 'เด็กนั่งเล่นกับสุนัข', 'ผู้หญิงสวมเสื้อ เด็กนั่งเล่นกับสุนัข'], tokenize=\"flores101\") # 100.0"
      ],
      "metadata": {
        "colab": {
          "base_uri": "https://localhost:8080/"
        },
        "id": "jvXtS5TZ_Rcr",
        "outputId": "481d86f1-5c02-4855-c90a-a23e3acd8679"
      },
      "execution_count": 5,
      "outputs": [
        {
          "output_type": "execute_result",
          "data": {
            "text/plain": [
              "BLEU = 34.57 50.0/42.9/33.3/20.0 (BP = 1.000 ratio = 1.000 hyp_len = 8 ref_len = 8)"
            ]
          },
          "metadata": {},
          "execution_count": 5
        }
      ]
    },
    {
      "cell_type": "code",
      "source": [
        "sentence_bleu(\n",
        "    Pred[0],['เด็กผู้หญิง ในสวนหย่อม', 'เด็กนั่งเล่นกับสุนัข', 'ผู้หญิงสวมเสื้อ เด็กนั่งเล่นกับสุนัข'],\n",
        "    tokenize=\"flores101\"\n",
        ")"
      ],
      "metadata": {
        "colab": {
          "base_uri": "https://localhost:8080/"
        },
        "id": "g9gyJ0-CBLyD",
        "outputId": "f7d97863-31e1-4ab5-a5d9-430c679f2252"
      },
      "execution_count": 6,
      "outputs": [
        {
          "output_type": "execute_result",
          "data": {
            "text/plain": [
              "BLEU = 34.57 50.0/42.9/33.3/20.0 (BP = 1.000 ratio = 1.000 hyp_len = 8 ref_len = 8)"
            ]
          },
          "metadata": {},
          "execution_count": 6
        }
      ]
    },
    {
      "cell_type": "markdown",
      "source": [
        "<hr>"
      ],
      "metadata": {
        "id": "2kOj8Jd8Bbes"
      }
    },
    {
      "cell_type": "code",
      "source": [
        "MsToken = [\n",
        "    ['ผู้หญิงสวมเสื้อแขนยาวสีขาวและเด็กนั่งเล่นกับสุนัขอยู่ ในสวนหย่อม',\n",
        "     'สาวคนนึงกำลังพาเด็กมานั่งเล่นอยู่ภายในสนามหญ้าพร้อมกับสุนัข',\n",
        "     'ภาพขาวดำ ผู้หญิงนั่งบนพื้นอุ้มเด็กบนตัก ข้าง ๆ มีหมาสองตัว ด้านหลังมีม้านั่งไม้'],\n",
        "    ['สีน้ำตาลตัวเล็กกำลังกินอาหารอยู่บนจานกระดาษสีขาวข้างแก้วน้ำ',\n",
        "     'นกน้อยตัวหนึ่งกำลังจิกกินเศษอาหารที่วางทิ้งไว้บนโต๊ะ',\n",
        "     'บนโต๊ะอาหาร นกน้อยตัวหนึ่งกำลังก้มหน้ากินอะไรบางอย่าง']]\n",
        "predictions = [\n",
        "            'ผู้หญิงสวมเสื้อแขนยาวสีขาวและเด็กนั่งเล่นกับสุนัขอยู่ ในสวนหย่อม',\n",
        "            'สีน้ำตาลตัวเล็กกำลังกินอาหารอยู่บนจานกระดาษสีขาวข้างแก้วน้ำ'\n",
        "        ]"
      ],
      "metadata": {
        "id": "NrTJF-0HBlM5"
      },
      "execution_count": 7,
      "outputs": []
    },
    {
      "cell_type": "code",
      "source": [
        "if len(MsToken) == len(predictions):\n",
        "    for i in range(len(predictions)):\n",
        "        print(i)"
      ],
      "metadata": {
        "colab": {
          "base_uri": "https://localhost:8080/"
        },
        "id": "CNO27RGMBmRk",
        "outputId": "2d32109e-b084-4810-9f08-c80dcaebb113"
      },
      "execution_count": 8,
      "outputs": [
        {
          "output_type": "stream",
          "name": "stdout",
          "text": [
            "0\n",
            "1\n"
          ]
        }
      ]
    },
    {
      "cell_type": "code",
      "source": [
        "# Import the necessary library\n",
        "from sacrebleu import sentence_bleu\n",
        "\n",
        "# List of predictions and their corresponding reference translations\n",
        "MsToken = [\n",
        "    ['ผู้หญิงสวมเสื้อแขนยาวสีขาวและเด็กนั่งเล่นกับสุนัขอยู่ ในสวนหย่อม','สาวคนนึงกำลังพาเด็กมานั่งเล่นอยู่ภายในสนามหญ้าพร้อมกับสุนัข','ภาพขาวดำ ผู้หญิงนั่งบนพื้นอุ้มเด็กบนตัก ข้าง ๆ มีหมาสองตัว ด้านหลังมีม้านั่งไม้'],\n",
        "    ['สีน้ำตาลตัวเล็กกำลังกินอาหารอยู่บนจานกระดาษสีขาวข้างแก้วน้ำ','นกน้อยตัวหนึ่งกำลังจิกกินเศษอาหารที่วางทิ้งไว้บนโต๊ะ','บนโต๊ะอาหาร นกน้อยตัวหนึ่งกำลังก้มหน้ากินอะไรบางอย่าง'],\n",
        "    ['ชายหนุ่มสวมเสื้อสเวตเตอร์สีเทานั่งอ่านหนังสือในห้องสมุด', 'เด็กชายในเสื้อสเวตเตอร์กำลังเรียนหนังสือในห้องเรียน', 'ภาพขาวดำของชายหนุ่มที่กำลังอ่านหนังสือท่ามกลางหนังสือมากมาย'],\n",
        "    ['ผู้หญิงสวมชุดว่ายน้ำกำลังว่ายน้ำในสระ', 'คนว่ายน้ำในสระว่ายน้ำแบบโอลิมปิก', 'ชายหาดที่มีคนเล่นน้ำและว่ายน้ำในฤดูร้อน']\n",
        "]\n",
        "predictions = [\n",
        "    'ผู้หญิงสวมเสื้อแขนยาวสีขาว',\n",
        "    'สีน้ำตาลตัวเล็กกำลังกินอาหารอยู่บ',\n",
        "    'ชายหนุ่มสวมเสื้อสเวตเตอร์สีเทา',\n",
        "    'ผู้หญิงสวมชุดว่ายน้ำกำลังว่ายน้ำ'\n",
        "]\n",
        "\n",
        "# Calculate BLEU score for each prediction and its references\n",
        "for pred, refs in zip(predictions, MsToken):\n",
        "    print(pred,refs)\n",
        "    score = sentence_bleu(pred, refs, tokenize=\"flores101\")\n",
        "    print(f\"BLEU score for '{pred}': {score.score:.2f}\")\n",
        "    print()"
      ],
      "metadata": {
        "colab": {
          "base_uri": "https://localhost:8080/"
        },
        "id": "iwF0jUEpBmOz",
        "outputId": "7f9215f9-400b-4815-9a9d-03a582bc6238"
      },
      "execution_count": 21,
      "outputs": [
        {
          "output_type": "stream",
          "name": "stdout",
          "text": [
            "ผู้หญิงสวมเสื้อแขนยาวสีขาว ['ผู้หญิงสวมเสื้อแขนยาวสีขาวและเด็กนั่งเล่นกับสุนัขอยู่ ในสวนหย่อม', 'สาวคนนึงกำลังพาเด็กมานั่งเล่นอยู่ภายในสนามหญ้าพร้อมกับสุนัข', 'ภาพขาวดำ ผู้หญิงนั่งบนพื้นอุ้มเด็กบนตัก ข้าง ๆ มีหมาสองตัว ด้านหลังมีม้านั่งไม้']\n",
            "BLEU score for 'ผู้หญิงสวมเสื้อแขนยาวสีขาว': 22.31\n",
            "\n",
            "สีน้ำตาลตัวเล็กกำลังกินอาหารอยู่บ ['สีน้ำตาลตัวเล็กกำลังกินอาหารอยู่บนจานกระดาษสีขาวข้างแก้วน้ำ', 'นกน้อยตัวหนึ่งกำลังจิกกินเศษอาหารที่วางทิ้งไว้บนโต๊ะ', 'บนโต๊ะอาหาร นกน้อยตัวหนึ่งกำลังก้มหน้ากินอะไรบางอย่าง']\n",
            "BLEU score for 'สีน้ำตาลตัวเล็กกำลังกินอาหารอยู่บ': 41.65\n",
            "\n",
            "ชายหนุ่มสวมเสื้อสเวตเตอร์สีเทา ['ชายหนุ่มสวมเสื้อสเวตเตอร์สีเทานั่งอ่านหนังสือในห้องสมุด', 'เด็กชายในเสื้อสเวตเตอร์กำลังเรียนหนังสือในห้องเรียน', 'ภาพขาวดำของชายหนุ่มที่กำลังอ่านหนังสือท่ามกลางหนังสือมากมาย']\n",
            "BLEU score for 'ชายหนุ่มสวมเสื้อสเวตเตอร์สีเทา': 65.20\n",
            "\n",
            "ผู้หญิงสวมชุดว่ายน้ำกำลังว่ายน้ำ ['ผู้หญิงสวมชุดว่ายน้ำกำลังว่ายน้ำในสระ', 'คนว่ายน้ำในสระว่ายน้ำแบบโอลิมปิก', 'ชายหาดที่มีคนเล่นน้ำและว่ายน้ำในฤดูร้อน']\n",
            "BLEU score for 'ผู้หญิงสวมชุดว่ายน้ำกำลังว่ายน้ำ': 71.65\n",
            "\n"
          ]
        }
      ]
    },
    {
      "cell_type": "code",
      "source": [
        "# if ==\n",
        "# else\n",
        "AcBsc = []\n",
        "# Calculate BLEU score for each prediction and its references\n",
        "for pred, refs in zip(predictions, MsToken):\n",
        "    score = sentence_bleu(pred, refs, tokenize=\"flores101\")\n",
        "    print(f\"BLEU score for '{pred}': {score.score:.2f}\")\n",
        "    AcBsc.append(score.score)"
      ],
      "metadata": {
        "colab": {
          "base_uri": "https://localhost:8080/"
        },
        "id": "LW_GuKX1BmJD",
        "outputId": "ec702206-b3c4-477e-e5b6-fbe9beb59464"
      },
      "execution_count": 10,
      "outputs": [
        {
          "output_type": "stream",
          "name": "stdout",
          "text": [
            "BLEU score for 'ผู้หญิงสวมเสื้อแขนยาวสีขาว': 22.31\n",
            "BLEU score for 'สีน้ำตาลตัวเล็กกำลังกินอาหารอยู่บ': 41.65\n",
            "BLEU score for 'ชายหนุ่มสวมเสื้อสเวตเตอร์สีเทา': 65.20\n",
            "BLEU score for 'ผู้หญิงสวมชุดว่ายน้ำกำลังว่ายน้ำ': 71.65\n"
          ]
        }
      ]
    },
    {
      "cell_type": "code",
      "source": [
        "sum(AcBsc)/len(AcBsc)"
      ],
      "metadata": {
        "colab": {
          "base_uri": "https://localhost:8080/"
        },
        "id": "N0jJaLy0BmGO",
        "outputId": "c6821c7e-98a3-4a8d-c454-830f68f8f054"
      },
      "execution_count": 11,
      "outputs": [
        {
          "output_type": "execute_result",
          "data": {
            "text/plain": [
              "50.20493799474883"
            ]
          },
          "metadata": {},
          "execution_count": 11
        }
      ]
    },
    {
      "cell_type": "markdown",
      "source": [
        "<hr>"
      ],
      "metadata": {
        "id": "SqpMqfoaISRm"
      }
    },
    {
      "cell_type": "code",
      "source": [
        "class Blue_Score():\n",
        "    def __init__(self,prediction,reference):\n",
        "        self.pred = prediction\n",
        "        self.reff = reference\n",
        "        self.Accumulate_Bleuscore = []\n",
        "    def run(self,pattern = 0):\n",
        "        self.pattern = pattern\n",
        "        try:\n",
        "            for pred,refs in zip(self.pred,self.reff):\n",
        "                score = sentence_bleu(pred, refs, tokenize=\"flores101\")\n",
        "                if pattern == 0:\n",
        "                    print(score)\n",
        "                elif pattern == 1:\n",
        "                    print(f\"BLEU score : '{pred}': {score.score:.2f}\")\n",
        "                elif pattern == 2:\n",
        "                    print(f\"BLEU score -> Ref : {refs}\\tPred : {pred}': {score.score:.2f}\")\n",
        "                elif pattern == 3:\n",
        "                    pass\n",
        "                self.Accumulate_Bleuscore.append(score.score)\n",
        "        except:\n",
        "            print(\"Error some where\")\n",
        "    def runavg(self):\n",
        "        self.run(3)\n",
        "        return sum(self.Accumulate_Bleuscore)/len(self.Accumulate_Bleuscore)\n"
      ],
      "metadata": {
        "id": "v3f0EPJwBmDe"
      },
      "execution_count": 97,
      "outputs": []
    },
    {
      "cell_type": "code",
      "source": [
        "x = Blue_Score(predictions,MsToken)"
      ],
      "metadata": {
        "id": "gzltEP5qPVFw"
      },
      "execution_count": 91,
      "outputs": []
    },
    {
      "cell_type": "code",
      "source": [
        "x.run()"
      ],
      "metadata": {
        "colab": {
          "base_uri": "https://localhost:8080/"
        },
        "id": "w8t-s18mPWQy",
        "outputId": "db124ecc-f4fd-420b-feac-935e16d63bae"
      },
      "execution_count": 92,
      "outputs": [
        {
          "output_type": "stream",
          "name": "stdout",
          "text": [
            "BLEU = 22.31 100.0/100.0/100.0/100.0 (BP = 0.223 ratio = 0.400 hyp_len = 6 ref_len = 15)\n",
            "BLEU = 41.65 77.8/75.0/71.4/66.7 (BP = 0.574 ratio = 0.643 hyp_len = 9 ref_len = 14)\n",
            "BLEU = 65.20 90.0/88.9/87.5/85.7 (BP = 0.741 ratio = 0.769 hyp_len = 10 ref_len = 13)\n",
            "BLEU = 71.65 100.0/100.0/100.0/100.0 (BP = 0.717 ratio = 0.750 hyp_len = 6 ref_len = 8)\n"
          ]
        }
      ]
    },
    {
      "cell_type": "code",
      "source": [
        "x.run(1)"
      ],
      "metadata": {
        "colab": {
          "base_uri": "https://localhost:8080/"
        },
        "id": "uMAOHNtRPWNU",
        "outputId": "7b69dbd8-9142-414b-d13b-630bf7f05cca"
      },
      "execution_count": 93,
      "outputs": [
        {
          "output_type": "stream",
          "name": "stdout",
          "text": [
            "BLEU score : 'ผู้หญิงสวมเสื้อแขนยาวสีขาว': 22.31\n",
            "BLEU score : 'สีน้ำตาลตัวเล็กกำลังกินอาหารอยู่บ': 41.65\n",
            "BLEU score : 'ชายหนุ่มสวมเสื้อสเวตเตอร์สีเทา': 65.20\n",
            "BLEU score : 'ผู้หญิงสวมชุดว่ายน้ำกำลังว่ายน้ำ': 71.65\n"
          ]
        }
      ]
    },
    {
      "cell_type": "code",
      "source": [
        "x.run(2)"
      ],
      "metadata": {
        "colab": {
          "base_uri": "https://localhost:8080/"
        },
        "id": "660fJqHGPWKT",
        "outputId": "74829ded-a334-46da-a78d-eae911acb31c"
      },
      "execution_count": 94,
      "outputs": [
        {
          "output_type": "stream",
          "name": "stdout",
          "text": [
            "BLEU score -> Ref : ['ผู้หญิงสวมเสื้อแขนยาวสีขาวและเด็กนั่งเล่นกับสุนัขอยู่ ในสวนหย่อม', 'สาวคนนึงกำลังพาเด็กมานั่งเล่นอยู่ภายในสนามหญ้าพร้อมกับสุนัข', 'ภาพขาวดำ ผู้หญิงนั่งบนพื้นอุ้มเด็กบนตัก ข้าง ๆ มีหมาสองตัว ด้านหลังมีม้านั่งไม้']\tPred : ผู้หญิงสวมเสื้อแขนยาวสีขาว': 22.31\n",
            "BLEU score -> Ref : ['สีน้ำตาลตัวเล็กกำลังกินอาหารอยู่บนจานกระดาษสีขาวข้างแก้วน้ำ', 'นกน้อยตัวหนึ่งกำลังจิกกินเศษอาหารที่วางทิ้งไว้บนโต๊ะ', 'บนโต๊ะอาหาร นกน้อยตัวหนึ่งกำลังก้มหน้ากินอะไรบางอย่าง']\tPred : สีน้ำตาลตัวเล็กกำลังกินอาหารอยู่บ': 41.65\n",
            "BLEU score -> Ref : ['ชายหนุ่มสวมเสื้อสเวตเตอร์สีเทานั่งอ่านหนังสือในห้องสมุด', 'เด็กชายในเสื้อสเวตเตอร์กำลังเรียนหนังสือในห้องเรียน', 'ภาพขาวดำของชายหนุ่มที่กำลังอ่านหนังสือท่ามกลางหนังสือมากมาย']\tPred : ชายหนุ่มสวมเสื้อสเวตเตอร์สีเทา': 65.20\n",
            "BLEU score -> Ref : ['ผู้หญิงสวมชุดว่ายน้ำกำลังว่ายน้ำในสระ', 'คนว่ายน้ำในสระว่ายน้ำแบบโอลิมปิก', 'ชายหาดที่มีคนเล่นน้ำและว่ายน้ำในฤดูร้อน']\tPred : ผู้หญิงสวมชุดว่ายน้ำกำลังว่ายน้ำ': 71.65\n"
          ]
        }
      ]
    },
    {
      "cell_type": "code",
      "source": [
        "x.runavg()"
      ],
      "metadata": {
        "colab": {
          "base_uri": "https://localhost:8080/"
        },
        "id": "EiZSI5wEIRRl",
        "outputId": "674b0f6c-eadf-4021-eca7-4b0706d8b864"
      },
      "execution_count": 95,
      "outputs": [
        {
          "output_type": "execute_result",
          "data": {
            "text/plain": [
              "50.20493799474883"
            ]
          },
          "metadata": {},
          "execution_count": 95
        }
      ]
    },
    {
      "cell_type": "markdown",
      "source": [
        "<hr>"
      ],
      "metadata": {
        "id": "-Z02xd3ORPqO"
      }
    },
    {
      "cell_type": "code",
      "source": [
        "pip install sacrebleu"
      ],
      "metadata": {
        "id": "8jL1egWJRRZU"
      },
      "execution_count": null,
      "outputs": []
    },
    {
      "cell_type": "code",
      "source": [
        "from sacrebleu import sentence_bleu"
      ],
      "metadata": {
        "id": "y5KtgyIORV0r"
      },
      "execution_count": null,
      "outputs": []
    },
    {
      "cell_type": "code",
      "source": [
        "MsToken = [\n",
        "    ['ผู้หญิงสวมเสื้อแขนยาวสีขาวและเด็กนั่งเล่นกับสุนัขอยู่ ในสวนหย่อม',\n",
        "     'สาวคนนึงกำลังพาเด็กมานั่งเล่นอยู่ภายในสนามหญ้าพร้อมกับสุนัข',\n",
        "     'ภาพขาวดำ ผู้หญิงนั่งบนพื้นอุ้มเด็กบนตัก ข้าง ๆ มีหมาสองตัว ด้านหลังมีม้านั่งไม้'],\n",
        "    ['สีน้ำตาลตัวเล็กกำลังกินอาหารอยู่บนจานกระดาษสีขาวข้างแก้วน้ำ',\n",
        "     'นกน้อยตัวหนึ่งกำลังจิกกินเศษอาหารที่วางทิ้งไว้บนโต๊ะ',\n",
        "     'บนโต๊ะอาหาร นกน้อยตัวหนึ่งกำลังก้มหน้ากินอะไรบางอย่าง']]\n",
        "predictions = [\n",
        "            'ผู้หญิงสวมเสื้อแขนยาวสีขาวและเด็กนั่งเล่นกับสุนัขอยู่ ในสวนหย่อม',\n",
        "            'สีน้ำตาลตัวเล็กกำลังกินอาหารอยู่บนจานกระดาษสีขาวข้างแก้วน้ำ'\n",
        "        ]"
      ],
      "metadata": {
        "id": "-Yk3UT5VRYz0"
      },
      "execution_count": 98,
      "outputs": []
    },
    {
      "cell_type": "code",
      "source": [
        "class Blue_Score():\n",
        "    def __init__(self,prediction,reference):\n",
        "        \"\"\"\n",
        "        A class for BLEU calculation Kup\n",
        "\n",
        "        Attributes:\n",
        "        prediction (list of str) : ['ABC', 'DEF', 'GHI']\n",
        "        reference (list of list of str) : [['ABCDEF','ABCESF','ABCwef],['DEFsdfsd','DEFdsf','DEFdsf;j'],['GHTdsfk','GHIdsf','GHIdfsz]]\n",
        "        \"\"\"\n",
        "        self.pred = prediction\n",
        "        self.reff = reference\n",
        "        self.Accumulate_Bleuscore = []\n",
        "    def run(self,pattern = 0):\n",
        "        \"\"\"\n",
        "        Each sentence Blue score\n",
        "\n",
        "        Parameter\n",
        "            pattern (int) : type of pattern\n",
        "        \"\"\"\n",
        "        self.pattern = pattern\n",
        "        try:\n",
        "            for pred,refs in zip(self.pred,self.reff):\n",
        "                score = sentence_bleu(pred, refs, tokenize=\"flores101\")\n",
        "                if pattern == 0:\n",
        "                    print(score)\n",
        "                elif pattern == 1:\n",
        "                    print(f\"BLEU score : '{pred}': {score.score:.2f}\")\n",
        "                elif pattern == 2:\n",
        "                    print(f\"BLEU score -> Ref : {refs}\\tPred : {pred}': {score.score:.2f}\")\n",
        "                elif pattern == 3:\n",
        "                    pass\n",
        "                self.Accumulate_Bleuscore.append(score.score)\n",
        "        except:\n",
        "            print(\"Error some where\")\n",
        "    def runavg(self):\n",
        "        \"\"\"\n",
        "        Show Average Blue score\n",
        "        \"\"\"\n",
        "        self.run(3)\n",
        "        return sum(self.Accumulate_Bleuscore)/len(self.Accumulate_Bleuscore)\n"
      ],
      "metadata": {
        "id": "e0y12qRmRcz2"
      },
      "execution_count": 99,
      "outputs": []
    },
    {
      "cell_type": "code",
      "source": [
        "x = Blue_Score(predictions,MsToken)\n",
        "x.runavg()"
      ],
      "metadata": {
        "colab": {
          "base_uri": "https://localhost:8080/"
        },
        "id": "swSCiM_5Rg4c",
        "outputId": "38b1edb4-2873-4b52-e28f-4ef79eb37dc2"
      },
      "execution_count": 101,
      "outputs": [
        {
          "output_type": "execute_result",
          "data": {
            "text/plain": [
              "100.00000000000004"
            ]
          },
          "metadata": {},
          "execution_count": 101
        }
      ]
    }
  ]
}