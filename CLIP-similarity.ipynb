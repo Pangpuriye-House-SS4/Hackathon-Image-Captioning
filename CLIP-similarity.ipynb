{
 "cells": [
  {
   "cell_type": "code",
   "execution_count": null,
   "metadata": {},
   "outputs": [],
   "source": [
    "import torch\n",
    "from typing import List\n",
    "import transformers\n",
    "import pandas\n",
    "import alive_progress"
   ]
  },
  {
   "cell_type": "code",
   "execution_count": null,
   "metadata": {},
   "outputs": [],
   "source": [
    "# import json\n",
    "# with open(r\"dataset\\ipu24_v0.4.1_coco.json\", encoding='utf-8') as f:\n",
    "#     d=json.load(f)\n",
    "\n",
    "\n",
    "# print(d)"
   ]
  },
  {
   "cell_type": "code",
   "execution_count": null,
   "metadata": {},
   "outputs": [],
   "source": [
    "from PIL import Image\n",
    "import requests\n",
    "from transformers import CLIPProcessor, CLIPModel\n",
    "model = CLIPModel.from_pretrained(\"openai/clip-vit-base-patch16\")\n",
    "processor = CLIPProcessor.from_pretrained(\"openai/clip-vit-base-patch16\")"
   ]
  },
  {
   "cell_type": "code",
   "execution_count": null,
   "metadata": {},
   "outputs": [],
   "source": [
    "# testing code please ignore\n",
    "url = \"http://images.cocodataset.org/val2017/000000039769.jpg\"\n",
    "image = Image.open(requests.get(url, stream=True).raw)\n",
    "text = [\"a photo of two cats\",\"cats on a couch\",\"a cat on a couch\",\"two cats\",\"cats and remotes on a couch\"]"
   ]
  },
  {
   "cell_type": "code",
   "execution_count": null,
   "metadata": {},
   "outputs": [],
   "source": [
    "# pass in an array of text queries and a PIL image\n",
    "def SimilarityScore(image: Image, text: List[str], model=model, processor=processor):\n",
    "    inputs = processor(text=text, images=image,\n",
    "                       return_tensors=\"pt\", padding=True)\n",
    "    outputs = model(**inputs)\n",
    "    # this is the image-text similarity score\n",
    "    logits_per_image = outputs.logits_per_image\n",
    "    # we can take the softmax to get the label probabilities\n",
    "    probs = logits_per_image.softmax(dim=1).detach().numpy()[0]\n",
    "    return {text[i]:probs[i] for i in (range(len(text)))}"
   ]
  },
  {
   "cell_type": "code",
   "execution_count": null,
   "metadata": {},
   "outputs": [],
   "source": [
    "print(SimilarityScore(image, text, model, processor))\n",
    "display(image)"
   ]
  }
 ],
 "metadata": {
  "kernelspec": {
   "display_name": "imageCaptioning",
   "language": "python",
   "name": "python3"
  },
  "language_info": {
   "name": "python",
   "version": "3.10.14"
  }
 },
 "nbformat": 4,
 "nbformat_minor": 2
}
