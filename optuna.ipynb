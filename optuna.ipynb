{
 "cells": [
  {
   "cell_type": "code",
   "execution_count": 1,
   "metadata": {
    "metadata": {}
   },
   "outputs": [],
   "source": [
    "#%pip install ipykernel optuna lightgbm plotly scikit-learn mlflow optuna_integration"
   ]
  },
  {
   "cell_type": "code",
   "execution_count": null,
   "metadata": {},
   "outputs": [],
   "source": [
    "%pip install sacrebleu"
   ]
  },
  {
   "cell_type": "code",
   "execution_count": 2,
   "metadata": {
    "metadata": {}
   },
   "outputs": [
    {
     "name": "stderr",
     "output_type": "stream",
     "text": [
      "d:\\.VScode\\SuperAI4\\Image_captioning\\.venv\\Lib\\site-packages\\tqdm\\auto.py:21: TqdmWarning: IProgress not found. Please update jupyter and ipywidgets. See https://ipywidgets.readthedocs.io/en/stable/user_install.html\n",
      "  from .autonotebook import tqdm as notebook_tqdm\n"
     ]
    }
   ],
   "source": [
    "\n",
    "import numpy as np\n",
    "import optuna\n",
    "from pprint import pprint \n",
    "import matplotlib.pyplot as plt\n",
    "import lightgbm as lgb\n",
    "import sklearn.datasets\n",
    "import sklearn.metrics\n",
    "import plotly\n",
    "import pandas as pd\n",
    "from sklearn.model_selection import train_test_split\n",
    "from sacrebleu import sentence_bleu"
   ]
  },
  {
   "cell_type": "code",
   "execution_count": null,
   "metadata": {},
   "outputs": [],
   "source": [
    "class Blue_Score():\n",
    "    def __init__(self,prediction,reference):\n",
    "        self.pred = prediction\n",
    "        self.reff = reference\n",
    "        self.Accumulate_Bleuscore = []\n",
    "    def run(self,pattern = 0):\n",
    "        self.pattern = pattern\n",
    "        try:\n",
    "            for pred,refs in zip(self.pred,self.reff):\n",
    "                score = sentence_bleu(pred, refs, tokenize=\"flores101\")\n",
    "                if pattern == 0:\n",
    "                    print(score)\n",
    "                elif pattern == 1:\n",
    "                    print(f\"BLEU score : '{pred}': {score.score:.2f}\")\n",
    "                elif pattern == 2:\n",
    "                    print(f\"BLEU score -> Ref : {refs}\\tPred : {pred}': {score.score:.2f}\")\n",
    "                elif pattern == 3:\n",
    "                    pass\n",
    "                self.Accumulate_Bleuscore.append(score.score)\n",
    "        except:\n",
    "            print(\"Error some where\")\n",
    "    def runavg(self):\n",
    "        self.run(3)\n",
    "        return sum(self.Accumulate_Bleuscore)/len(self.Accumulate_Bleuscore)"
   ]
  },
  {
   "cell_type": "code",
   "execution_count": null,
   "metadata": {},
   "outputs": [],
   "source": [
    "import torch\n",
    "n_sample = 2000\n",
    "device = \"cuda\" if torch.cuda.is_available() else \"cpu\"\n",
    "def objective(trial):\n",
    "    sample = pd.sample(n = n_sample)\n",
    "    \n",
    "    pixel_values_list = []\n",
    "    label_list = []\n",
    "    for path, label in sample:\n",
    "        im = Image.open(path).convert(\"RGB\")\n",
    "        \n",
    "    pixel_values = processor(im, return_tensors=\"pt\").to(device).pixel_values\n",
    "    pixel_values_list.append(pixel_values)\n",
    "    label_list.append(label)\n",
    "        \n",
    "    pixel_values = torch.stack(pixel_values_list)\n",
    "    param = {\n",
    "        \"max_length\": trial.suggest_int(\"max_length\", 50, 70, log=True),\n",
    "        \"min_length\": trial.suggest_int(\"min_length\", 20, 40, log=True),\n",
    "        \"do_sample\":trial.suggest_categorical(\"do_sample\", log=True), \n",
    "        \"num_beams\": trial.suggest_int(\"num_beams\", 3, 5, log=True),\n",
    "        \"top_k\": trial.suggest_int(\"top_k\", 10, 30, log=True),\n",
    "        \"temperature\": trial.suggest_float(\"temperature\", 1.0, 3.0, log=True),\n",
    "        \"length_penalty\": trial.suggest_float(\"length_penalty\", 1.0, 3.0, log=True),\n",
    "        \"num_beam_groups\": trial.suggest_int(\"num_beam_groups\", 1.0, 3.0, log=True),\n",
    "        \"diversity_penalty\": trial.suggest_float(\"diversity_penalty\", 1.0, 3.0, log=True),\n",
    "        \"repetition_penalty\": trial.suggest_float(\"repetition_penalty\", 1.0, 3.0, log=True),\n",
    "        \"length_penalty\": trial.suggest_float(\"length_penalty\", 1.0, 3.0, log=True),\n",
    "        \"no_repeat_ngram_size\": trial.suggest_int(\"no_repeat_ngram_size\", 2, 5, log=True)\n",
    "    }\n",
    "    model.eval()\n",
    "    \n",
    "    outputs = model.generate(\n",
    "        pixel_values=pixel_values,\n",
    "        num_beam_groups = 5,\n",
    "        **param\n",
    "    ).cpu().numpy().tolist()\n",
    "    \n",
    "    bleu = Blue_Score(outputs, label_list).runavg()\n",
    "    return bleu"
   ]
  },
  {
   "cell_type": "code",
   "execution_count": 4,
   "metadata": {
    "metadata": {}
   },
   "outputs": [],
   "source": [
    "class verbosityCallback:\n",
    "    def __init__(self, model):\n",
    "        self.model = model\n",
    "        \n",
    "    def __call__(self, study: optuna.study.Study, trial: optuna.trial.FrozenTrial) -> None:\n",
    "        if study.best_trial == trial:\n",
    "            ## TODO: save model\n",
    "            pass"
   ]
  },
  {
   "cell_type": "code",
   "execution_count": 7,
   "metadata": {
    "metadata": {}
   },
   "outputs": [
    {
     "name": "stderr",
     "output_type": "stream",
     "text": [
      "Best trial: 6. Best value: 0.982456: 100%|██████████| 100/100 [00:03<00:00, 32.46it/s]\n"
     ]
    },
    {
     "data": {
      "application/vnd.plotly.v1+json": {
       "config": {
        "plotlyServerURL": "https://plot.ly"
       },
       "data": [
        {
         "mode": "markers",
         "name": "Objective Value",
         "type": "scatter",
         "x": [
          0,
          1,
          2,
          3,
          4,
          5,
          6,
          7,
          8,
          9,
          10,
          11,
          12,
          13,
          14,
          15,
          16,
          17,
          18,
          19,
          20,
          21,
          22,
          23,
          24,
          25,
          26,
          27,
          28,
          29,
          30,
          31,
          32,
          33,
          34,
          35,
          36,
          37,
          38,
          39,
          40,
          41,
          42,
          43,
          44,
          45,
          46,
          47,
          48,
          49,
          50,
          51,
          52,
          53,
          54,
          55,
          56,
          57,
          58,
          59,
          60,
          61,
          62,
          63,
          64,
          65,
          66,
          67,
          68,
          69,
          70,
          71,
          72,
          73,
          74,
          75,
          76,
          77,
          78,
          79,
          80,
          81,
          82,
          83,
          84,
          85,
          86,
          87,
          88,
          89,
          90,
          91,
          92,
          93,
          94,
          95,
          96,
          97,
          98,
          99
         ],
         "y": [
          0.9649122807017544,
          0.9649122807017544,
          0.9614035087719298,
          0.9614035087719298,
          0.9719298245614035,
          0.9508771929824561,
          0.9824561403508771,
          0.9649122807017544,
          0.9263157894736842,
          0.9649122807017544,
          0.5824561403508772,
          0.968421052631579,
          0.9263157894736842,
          0.6701754385964912,
          0.9403508771929825,
          0.9508771929824561,
          0.9789473684210527,
          0.9508771929824561,
          0.9508771929824561,
          0.9508771929824561,
          0.9403508771929825,
          0.9578947368421052,
          0.9508771929824561,
          0.9789473684210527,
          0.9719298245614035,
          0.968421052631579,
          0.9473684210526315,
          0.9473684210526315,
          0.9649122807017544,
          0.9649122807017544,
          0.9649122807017544,
          0.9473684210526315,
          0.9333333333333333,
          0.9368421052631579,
          0.9649122807017544,
          0.9754385964912281,
          0.9578947368421052,
          0.9578947368421052,
          0.9578947368421052,
          0.968421052631579,
          0.9543859649122807,
          0.9508771929824561,
          0.9719298245614035,
          0.9543859649122807,
          0.9543859649122807,
          0.968421052631579,
          0.9578947368421052,
          0.9614035087719298,
          0.968421052631579,
          0.9368421052631579,
          0.9649122807017544,
          0.9614035087719298,
          0.9438596491228071,
          0.9192982456140351,
          0.9614035087719298,
          0.9438596491228071,
          0.9649122807017544,
          0.9508771929824561,
          0.9614035087719298,
          0.6526315789473685,
          0.9508771929824561,
          0.9508771929824561,
          0.9508771929824561,
          0.9719298245614035,
          0.9754385964912281,
          0.9649122807017544,
          0.9333333333333333,
          0.9508771929824561,
          0.9438596491228071,
          0.9824561403508771,
          0.9473684210526315,
          0.9578947368421052,
          0.9578947368421052,
          0.9719298245614035,
          0.9228070175438596,
          0.9649122807017544,
          0.9368421052631579,
          0.9719298245614035,
          0.9333333333333333,
          0.9614035087719298,
          0.9578947368421052,
          0.9649122807017544,
          0.968421052631579,
          0.9578947368421052,
          0.9578947368421052,
          0.9719298245614035,
          0.9438596491228071,
          0.9508771929824561,
          0.631578947368421,
          0.9614035087719298,
          0.9403508771929825,
          0.9473684210526315,
          0.9228070175438596,
          0.9122807017543859,
          0.9614035087719298,
          0.9649122807017544,
          0.9473684210526315,
          0.9614035087719298,
          0.9578947368421052,
          0.9614035087719298
         ]
        },
        {
         "mode": "lines",
         "name": "Best Value",
         "type": "scatter",
         "x": [
          0,
          1,
          2,
          3,
          4,
          5,
          6,
          7,
          8,
          9,
          10,
          11,
          12,
          13,
          14,
          15,
          16,
          17,
          18,
          19,
          20,
          21,
          22,
          23,
          24,
          25,
          26,
          27,
          28,
          29,
          30,
          31,
          32,
          33,
          34,
          35,
          36,
          37,
          38,
          39,
          40,
          41,
          42,
          43,
          44,
          45,
          46,
          47,
          48,
          49,
          50,
          51,
          52,
          53,
          54,
          55,
          56,
          57,
          58,
          59,
          60,
          61,
          62,
          63,
          64,
          65,
          66,
          67,
          68,
          69,
          70,
          71,
          72,
          73,
          74,
          75,
          76,
          77,
          78,
          79,
          80,
          81,
          82,
          83,
          84,
          85,
          86,
          87,
          88,
          89,
          90,
          91,
          92,
          93,
          94,
          95,
          96,
          97,
          98,
          99
         ],
         "y": [
          0.9649122807017544,
          0.9649122807017544,
          0.9649122807017544,
          0.9649122807017544,
          0.9719298245614035,
          0.9719298245614035,
          0.9824561403508771,
          0.9824561403508771,
          0.9824561403508771,
          0.9824561403508771,
          0.9824561403508771,
          0.9824561403508771,
          0.9824561403508771,
          0.9824561403508771,
          0.9824561403508771,
          0.9824561403508771,
          0.9824561403508771,
          0.9824561403508771,
          0.9824561403508771,
          0.9824561403508771,
          0.9824561403508771,
          0.9824561403508771,
          0.9824561403508771,
          0.9824561403508771,
          0.9824561403508771,
          0.9824561403508771,
          0.9824561403508771,
          0.9824561403508771,
          0.9824561403508771,
          0.9824561403508771,
          0.9824561403508771,
          0.9824561403508771,
          0.9824561403508771,
          0.9824561403508771,
          0.9824561403508771,
          0.9824561403508771,
          0.9824561403508771,
          0.9824561403508771,
          0.9824561403508771,
          0.9824561403508771,
          0.9824561403508771,
          0.9824561403508771,
          0.9824561403508771,
          0.9824561403508771,
          0.9824561403508771,
          0.9824561403508771,
          0.9824561403508771,
          0.9824561403508771,
          0.9824561403508771,
          0.9824561403508771,
          0.9824561403508771,
          0.9824561403508771,
          0.9824561403508771,
          0.9824561403508771,
          0.9824561403508771,
          0.9824561403508771,
          0.9824561403508771,
          0.9824561403508771,
          0.9824561403508771,
          0.9824561403508771,
          0.9824561403508771,
          0.9824561403508771,
          0.9824561403508771,
          0.9824561403508771,
          0.9824561403508771,
          0.9824561403508771,
          0.9824561403508771,
          0.9824561403508771,
          0.9824561403508771,
          0.9824561403508771,
          0.9824561403508771,
          0.9824561403508771,
          0.9824561403508771,
          0.9824561403508771,
          0.9824561403508771,
          0.9824561403508771,
          0.9824561403508771,
          0.9824561403508771,
          0.9824561403508771,
          0.9824561403508771,
          0.9824561403508771,
          0.9824561403508771,
          0.9824561403508771,
          0.9824561403508771,
          0.9824561403508771,
          0.9824561403508771,
          0.9824561403508771,
          0.9824561403508771,
          0.9824561403508771,
          0.9824561403508771,
          0.9824561403508771,
          0.9824561403508771,
          0.9824561403508771,
          0.9824561403508771,
          0.9824561403508771,
          0.9824561403508771,
          0.9824561403508771,
          0.9824561403508771,
          0.9824561403508771,
          0.9824561403508771
         ]
        },
        {
         "marker": {
          "color": "#cccccc"
         },
         "mode": "markers",
         "name": "Infeasible Trial",
         "showlegend": false,
         "type": "scatter",
         "x": [],
         "y": []
        }
       ],
       "layout": {
        "template": {
         "data": {
          "bar": [
           {
            "error_x": {
             "color": "#2a3f5f"
            },
            "error_y": {
             "color": "#2a3f5f"
            },
            "marker": {
             "line": {
              "color": "#E5ECF6",
              "width": 0.5
             },
             "pattern": {
              "fillmode": "overlay",
              "size": 10,
              "solidity": 0.2
             }
            },
            "type": "bar"
           }
          ],
          "barpolar": [
           {
            "marker": {
             "line": {
              "color": "#E5ECF6",
              "width": 0.5
             },
             "pattern": {
              "fillmode": "overlay",
              "size": 10,
              "solidity": 0.2
             }
            },
            "type": "barpolar"
           }
          ],
          "carpet": [
           {
            "aaxis": {
             "endlinecolor": "#2a3f5f",
             "gridcolor": "white",
             "linecolor": "white",
             "minorgridcolor": "white",
             "startlinecolor": "#2a3f5f"
            },
            "baxis": {
             "endlinecolor": "#2a3f5f",
             "gridcolor": "white",
             "linecolor": "white",
             "minorgridcolor": "white",
             "startlinecolor": "#2a3f5f"
            },
            "type": "carpet"
           }
          ],
          "choropleth": [
           {
            "colorbar": {
             "outlinewidth": 0,
             "ticks": ""
            },
            "type": "choropleth"
           }
          ],
          "contour": [
           {
            "colorbar": {
             "outlinewidth": 0,
             "ticks": ""
            },
            "colorscale": [
             [
              0,
              "#0d0887"
             ],
             [
              0.1111111111111111,
              "#46039f"
             ],
             [
              0.2222222222222222,
              "#7201a8"
             ],
             [
              0.3333333333333333,
              "#9c179e"
             ],
             [
              0.4444444444444444,
              "#bd3786"
             ],
             [
              0.5555555555555556,
              "#d8576b"
             ],
             [
              0.6666666666666666,
              "#ed7953"
             ],
             [
              0.7777777777777778,
              "#fb9f3a"
             ],
             [
              0.8888888888888888,
              "#fdca26"
             ],
             [
              1,
              "#f0f921"
             ]
            ],
            "type": "contour"
           }
          ],
          "contourcarpet": [
           {
            "colorbar": {
             "outlinewidth": 0,
             "ticks": ""
            },
            "type": "contourcarpet"
           }
          ],
          "heatmap": [
           {
            "colorbar": {
             "outlinewidth": 0,
             "ticks": ""
            },
            "colorscale": [
             [
              0,
              "#0d0887"
             ],
             [
              0.1111111111111111,
              "#46039f"
             ],
             [
              0.2222222222222222,
              "#7201a8"
             ],
             [
              0.3333333333333333,
              "#9c179e"
             ],
             [
              0.4444444444444444,
              "#bd3786"
             ],
             [
              0.5555555555555556,
              "#d8576b"
             ],
             [
              0.6666666666666666,
              "#ed7953"
             ],
             [
              0.7777777777777778,
              "#fb9f3a"
             ],
             [
              0.8888888888888888,
              "#fdca26"
             ],
             [
              1,
              "#f0f921"
             ]
            ],
            "type": "heatmap"
           }
          ],
          "heatmapgl": [
           {
            "colorbar": {
             "outlinewidth": 0,
             "ticks": ""
            },
            "colorscale": [
             [
              0,
              "#0d0887"
             ],
             [
              0.1111111111111111,
              "#46039f"
             ],
             [
              0.2222222222222222,
              "#7201a8"
             ],
             [
              0.3333333333333333,
              "#9c179e"
             ],
             [
              0.4444444444444444,
              "#bd3786"
             ],
             [
              0.5555555555555556,
              "#d8576b"
             ],
             [
              0.6666666666666666,
              "#ed7953"
             ],
             [
              0.7777777777777778,
              "#fb9f3a"
             ],
             [
              0.8888888888888888,
              "#fdca26"
             ],
             [
              1,
              "#f0f921"
             ]
            ],
            "type": "heatmapgl"
           }
          ],
          "histogram": [
           {
            "marker": {
             "pattern": {
              "fillmode": "overlay",
              "size": 10,
              "solidity": 0.2
             }
            },
            "type": "histogram"
           }
          ],
          "histogram2d": [
           {
            "colorbar": {
             "outlinewidth": 0,
             "ticks": ""
            },
            "colorscale": [
             [
              0,
              "#0d0887"
             ],
             [
              0.1111111111111111,
              "#46039f"
             ],
             [
              0.2222222222222222,
              "#7201a8"
             ],
             [
              0.3333333333333333,
              "#9c179e"
             ],
             [
              0.4444444444444444,
              "#bd3786"
             ],
             [
              0.5555555555555556,
              "#d8576b"
             ],
             [
              0.6666666666666666,
              "#ed7953"
             ],
             [
              0.7777777777777778,
              "#fb9f3a"
             ],
             [
              0.8888888888888888,
              "#fdca26"
             ],
             [
              1,
              "#f0f921"
             ]
            ],
            "type": "histogram2d"
           }
          ],
          "histogram2dcontour": [
           {
            "colorbar": {
             "outlinewidth": 0,
             "ticks": ""
            },
            "colorscale": [
             [
              0,
              "#0d0887"
             ],
             [
              0.1111111111111111,
              "#46039f"
             ],
             [
              0.2222222222222222,
              "#7201a8"
             ],
             [
              0.3333333333333333,
              "#9c179e"
             ],
             [
              0.4444444444444444,
              "#bd3786"
             ],
             [
              0.5555555555555556,
              "#d8576b"
             ],
             [
              0.6666666666666666,
              "#ed7953"
             ],
             [
              0.7777777777777778,
              "#fb9f3a"
             ],
             [
              0.8888888888888888,
              "#fdca26"
             ],
             [
              1,
              "#f0f921"
             ]
            ],
            "type": "histogram2dcontour"
           }
          ],
          "mesh3d": [
           {
            "colorbar": {
             "outlinewidth": 0,
             "ticks": ""
            },
            "type": "mesh3d"
           }
          ],
          "parcoords": [
           {
            "line": {
             "colorbar": {
              "outlinewidth": 0,
              "ticks": ""
             }
            },
            "type": "parcoords"
           }
          ],
          "pie": [
           {
            "automargin": true,
            "type": "pie"
           }
          ],
          "scatter": [
           {
            "fillpattern": {
             "fillmode": "overlay",
             "size": 10,
             "solidity": 0.2
            },
            "type": "scatter"
           }
          ],
          "scatter3d": [
           {
            "line": {
             "colorbar": {
              "outlinewidth": 0,
              "ticks": ""
             }
            },
            "marker": {
             "colorbar": {
              "outlinewidth": 0,
              "ticks": ""
             }
            },
            "type": "scatter3d"
           }
          ],
          "scattercarpet": [
           {
            "marker": {
             "colorbar": {
              "outlinewidth": 0,
              "ticks": ""
             }
            },
            "type": "scattercarpet"
           }
          ],
          "scattergeo": [
           {
            "marker": {
             "colorbar": {
              "outlinewidth": 0,
              "ticks": ""
             }
            },
            "type": "scattergeo"
           }
          ],
          "scattergl": [
           {
            "marker": {
             "colorbar": {
              "outlinewidth": 0,
              "ticks": ""
             }
            },
            "type": "scattergl"
           }
          ],
          "scattermapbox": [
           {
            "marker": {
             "colorbar": {
              "outlinewidth": 0,
              "ticks": ""
             }
            },
            "type": "scattermapbox"
           }
          ],
          "scatterpolar": [
           {
            "marker": {
             "colorbar": {
              "outlinewidth": 0,
              "ticks": ""
             }
            },
            "type": "scatterpolar"
           }
          ],
          "scatterpolargl": [
           {
            "marker": {
             "colorbar": {
              "outlinewidth": 0,
              "ticks": ""
             }
            },
            "type": "scatterpolargl"
           }
          ],
          "scatterternary": [
           {
            "marker": {
             "colorbar": {
              "outlinewidth": 0,
              "ticks": ""
             }
            },
            "type": "scatterternary"
           }
          ],
          "surface": [
           {
            "colorbar": {
             "outlinewidth": 0,
             "ticks": ""
            },
            "colorscale": [
             [
              0,
              "#0d0887"
             ],
             [
              0.1111111111111111,
              "#46039f"
             ],
             [
              0.2222222222222222,
              "#7201a8"
             ],
             [
              0.3333333333333333,
              "#9c179e"
             ],
             [
              0.4444444444444444,
              "#bd3786"
             ],
             [
              0.5555555555555556,
              "#d8576b"
             ],
             [
              0.6666666666666666,
              "#ed7953"
             ],
             [
              0.7777777777777778,
              "#fb9f3a"
             ],
             [
              0.8888888888888888,
              "#fdca26"
             ],
             [
              1,
              "#f0f921"
             ]
            ],
            "type": "surface"
           }
          ],
          "table": [
           {
            "cells": {
             "fill": {
              "color": "#EBF0F8"
             },
             "line": {
              "color": "white"
             }
            },
            "header": {
             "fill": {
              "color": "#C8D4E3"
             },
             "line": {
              "color": "white"
             }
            },
            "type": "table"
           }
          ]
         },
         "layout": {
          "annotationdefaults": {
           "arrowcolor": "#2a3f5f",
           "arrowhead": 0,
           "arrowwidth": 1
          },
          "autotypenumbers": "strict",
          "coloraxis": {
           "colorbar": {
            "outlinewidth": 0,
            "ticks": ""
           }
          },
          "colorscale": {
           "diverging": [
            [
             0,
             "#8e0152"
            ],
            [
             0.1,
             "#c51b7d"
            ],
            [
             0.2,
             "#de77ae"
            ],
            [
             0.3,
             "#f1b6da"
            ],
            [
             0.4,
             "#fde0ef"
            ],
            [
             0.5,
             "#f7f7f7"
            ],
            [
             0.6,
             "#e6f5d0"
            ],
            [
             0.7,
             "#b8e186"
            ],
            [
             0.8,
             "#7fbc41"
            ],
            [
             0.9,
             "#4d9221"
            ],
            [
             1,
             "#276419"
            ]
           ],
           "sequential": [
            [
             0,
             "#0d0887"
            ],
            [
             0.1111111111111111,
             "#46039f"
            ],
            [
             0.2222222222222222,
             "#7201a8"
            ],
            [
             0.3333333333333333,
             "#9c179e"
            ],
            [
             0.4444444444444444,
             "#bd3786"
            ],
            [
             0.5555555555555556,
             "#d8576b"
            ],
            [
             0.6666666666666666,
             "#ed7953"
            ],
            [
             0.7777777777777778,
             "#fb9f3a"
            ],
            [
             0.8888888888888888,
             "#fdca26"
            ],
            [
             1,
             "#f0f921"
            ]
           ],
           "sequentialminus": [
            [
             0,
             "#0d0887"
            ],
            [
             0.1111111111111111,
             "#46039f"
            ],
            [
             0.2222222222222222,
             "#7201a8"
            ],
            [
             0.3333333333333333,
             "#9c179e"
            ],
            [
             0.4444444444444444,
             "#bd3786"
            ],
            [
             0.5555555555555556,
             "#d8576b"
            ],
            [
             0.6666666666666666,
             "#ed7953"
            ],
            [
             0.7777777777777778,
             "#fb9f3a"
            ],
            [
             0.8888888888888888,
             "#fdca26"
            ],
            [
             1,
             "#f0f921"
            ]
           ]
          },
          "colorway": [
           "#636efa",
           "#EF553B",
           "#00cc96",
           "#ab63fa",
           "#FFA15A",
           "#19d3f3",
           "#FF6692",
           "#B6E880",
           "#FF97FF",
           "#FECB52"
          ],
          "font": {
           "color": "#2a3f5f"
          },
          "geo": {
           "bgcolor": "white",
           "lakecolor": "white",
           "landcolor": "#E5ECF6",
           "showlakes": true,
           "showland": true,
           "subunitcolor": "white"
          },
          "hoverlabel": {
           "align": "left"
          },
          "hovermode": "closest",
          "mapbox": {
           "style": "light"
          },
          "paper_bgcolor": "white",
          "plot_bgcolor": "#E5ECF6",
          "polar": {
           "angularaxis": {
            "gridcolor": "white",
            "linecolor": "white",
            "ticks": ""
           },
           "bgcolor": "#E5ECF6",
           "radialaxis": {
            "gridcolor": "white",
            "linecolor": "white",
            "ticks": ""
           }
          },
          "scene": {
           "xaxis": {
            "backgroundcolor": "#E5ECF6",
            "gridcolor": "white",
            "gridwidth": 2,
            "linecolor": "white",
            "showbackground": true,
            "ticks": "",
            "zerolinecolor": "white"
           },
           "yaxis": {
            "backgroundcolor": "#E5ECF6",
            "gridcolor": "white",
            "gridwidth": 2,
            "linecolor": "white",
            "showbackground": true,
            "ticks": "",
            "zerolinecolor": "white"
           },
           "zaxis": {
            "backgroundcolor": "#E5ECF6",
            "gridcolor": "white",
            "gridwidth": 2,
            "linecolor": "white",
            "showbackground": true,
            "ticks": "",
            "zerolinecolor": "white"
           }
          },
          "shapedefaults": {
           "line": {
            "color": "#2a3f5f"
           }
          },
          "ternary": {
           "aaxis": {
            "gridcolor": "white",
            "linecolor": "white",
            "ticks": ""
           },
           "baxis": {
            "gridcolor": "white",
            "linecolor": "white",
            "ticks": ""
           },
           "bgcolor": "#E5ECF6",
           "caxis": {
            "gridcolor": "white",
            "linecolor": "white",
            "ticks": ""
           }
          },
          "title": {
           "x": 0.05
          },
          "xaxis": {
           "automargin": true,
           "gridcolor": "white",
           "linecolor": "white",
           "ticks": "",
           "title": {
            "standoff": 15
           },
           "zerolinecolor": "white",
           "zerolinewidth": 2
          },
          "yaxis": {
           "automargin": true,
           "gridcolor": "white",
           "linecolor": "white",
           "ticks": "",
           "title": {
            "standoff": 15
           },
           "zerolinecolor": "white",
           "zerolinewidth": 2
          }
         }
        },
        "title": {
         "text": "Optimization History Plot"
        },
        "xaxis": {
         "title": {
          "text": "Trial"
         }
        },
        "yaxis": {
         "title": {
          "text": "Objective Value"
         }
        }
       }
      }
     },
     "metadata": {},
     "output_type": "display_data"
    },
    {
     "data": {
      "application/vnd.plotly.v1+json": {
       "config": {
        "plotlyServerURL": "https://plot.ly"
       },
       "data": [
        {
         "cliponaxis": false,
         "hovertemplate": [
          "bagging_freq (IntDistribution): 0.004344682393865952<extra></extra>",
          "num_leaves (IntDistribution): 0.006404858092044086<extra></extra>",
          "lambda_l1 (FloatDistribution): 0.010835845173714392<extra></extra>",
          "lambda_l2 (FloatDistribution): 0.10222752922583923<extra></extra>",
          "feature_fraction (FloatDistribution): 0.10252434801381335<extra></extra>",
          "bagging_fraction (FloatDistribution): 0.29082198621805794<extra></extra>",
          "min_child_samples (IntDistribution): 0.4828407508826651<extra></extra>"
         ],
         "name": "Objective Value",
         "orientation": "h",
         "text": [
          "<0.01",
          "<0.01",
          "0.01",
          "0.10",
          "0.10",
          "0.29",
          "0.48"
         ],
         "textposition": "outside",
         "type": "bar",
         "x": [
          0.004344682393865952,
          0.006404858092044086,
          0.010835845173714392,
          0.10222752922583923,
          0.10252434801381335,
          0.29082198621805794,
          0.4828407508826651
         ],
         "y": [
          "bagging_freq",
          "num_leaves",
          "lambda_l1",
          "lambda_l2",
          "feature_fraction",
          "bagging_fraction",
          "min_child_samples"
         ]
        }
       ],
       "layout": {
        "template": {
         "data": {
          "bar": [
           {
            "error_x": {
             "color": "#2a3f5f"
            },
            "error_y": {
             "color": "#2a3f5f"
            },
            "marker": {
             "line": {
              "color": "#E5ECF6",
              "width": 0.5
             },
             "pattern": {
              "fillmode": "overlay",
              "size": 10,
              "solidity": 0.2
             }
            },
            "type": "bar"
           }
          ],
          "barpolar": [
           {
            "marker": {
             "line": {
              "color": "#E5ECF6",
              "width": 0.5
             },
             "pattern": {
              "fillmode": "overlay",
              "size": 10,
              "solidity": 0.2
             }
            },
            "type": "barpolar"
           }
          ],
          "carpet": [
           {
            "aaxis": {
             "endlinecolor": "#2a3f5f",
             "gridcolor": "white",
             "linecolor": "white",
             "minorgridcolor": "white",
             "startlinecolor": "#2a3f5f"
            },
            "baxis": {
             "endlinecolor": "#2a3f5f",
             "gridcolor": "white",
             "linecolor": "white",
             "minorgridcolor": "white",
             "startlinecolor": "#2a3f5f"
            },
            "type": "carpet"
           }
          ],
          "choropleth": [
           {
            "colorbar": {
             "outlinewidth": 0,
             "ticks": ""
            },
            "type": "choropleth"
           }
          ],
          "contour": [
           {
            "colorbar": {
             "outlinewidth": 0,
             "ticks": ""
            },
            "colorscale": [
             [
              0,
              "#0d0887"
             ],
             [
              0.1111111111111111,
              "#46039f"
             ],
             [
              0.2222222222222222,
              "#7201a8"
             ],
             [
              0.3333333333333333,
              "#9c179e"
             ],
             [
              0.4444444444444444,
              "#bd3786"
             ],
             [
              0.5555555555555556,
              "#d8576b"
             ],
             [
              0.6666666666666666,
              "#ed7953"
             ],
             [
              0.7777777777777778,
              "#fb9f3a"
             ],
             [
              0.8888888888888888,
              "#fdca26"
             ],
             [
              1,
              "#f0f921"
             ]
            ],
            "type": "contour"
           }
          ],
          "contourcarpet": [
           {
            "colorbar": {
             "outlinewidth": 0,
             "ticks": ""
            },
            "type": "contourcarpet"
           }
          ],
          "heatmap": [
           {
            "colorbar": {
             "outlinewidth": 0,
             "ticks": ""
            },
            "colorscale": [
             [
              0,
              "#0d0887"
             ],
             [
              0.1111111111111111,
              "#46039f"
             ],
             [
              0.2222222222222222,
              "#7201a8"
             ],
             [
              0.3333333333333333,
              "#9c179e"
             ],
             [
              0.4444444444444444,
              "#bd3786"
             ],
             [
              0.5555555555555556,
              "#d8576b"
             ],
             [
              0.6666666666666666,
              "#ed7953"
             ],
             [
              0.7777777777777778,
              "#fb9f3a"
             ],
             [
              0.8888888888888888,
              "#fdca26"
             ],
             [
              1,
              "#f0f921"
             ]
            ],
            "type": "heatmap"
           }
          ],
          "heatmapgl": [
           {
            "colorbar": {
             "outlinewidth": 0,
             "ticks": ""
            },
            "colorscale": [
             [
              0,
              "#0d0887"
             ],
             [
              0.1111111111111111,
              "#46039f"
             ],
             [
              0.2222222222222222,
              "#7201a8"
             ],
             [
              0.3333333333333333,
              "#9c179e"
             ],
             [
              0.4444444444444444,
              "#bd3786"
             ],
             [
              0.5555555555555556,
              "#d8576b"
             ],
             [
              0.6666666666666666,
              "#ed7953"
             ],
             [
              0.7777777777777778,
              "#fb9f3a"
             ],
             [
              0.8888888888888888,
              "#fdca26"
             ],
             [
              1,
              "#f0f921"
             ]
            ],
            "type": "heatmapgl"
           }
          ],
          "histogram": [
           {
            "marker": {
             "pattern": {
              "fillmode": "overlay",
              "size": 10,
              "solidity": 0.2
             }
            },
            "type": "histogram"
           }
          ],
          "histogram2d": [
           {
            "colorbar": {
             "outlinewidth": 0,
             "ticks": ""
            },
            "colorscale": [
             [
              0,
              "#0d0887"
             ],
             [
              0.1111111111111111,
              "#46039f"
             ],
             [
              0.2222222222222222,
              "#7201a8"
             ],
             [
              0.3333333333333333,
              "#9c179e"
             ],
             [
              0.4444444444444444,
              "#bd3786"
             ],
             [
              0.5555555555555556,
              "#d8576b"
             ],
             [
              0.6666666666666666,
              "#ed7953"
             ],
             [
              0.7777777777777778,
              "#fb9f3a"
             ],
             [
              0.8888888888888888,
              "#fdca26"
             ],
             [
              1,
              "#f0f921"
             ]
            ],
            "type": "histogram2d"
           }
          ],
          "histogram2dcontour": [
           {
            "colorbar": {
             "outlinewidth": 0,
             "ticks": ""
            },
            "colorscale": [
             [
              0,
              "#0d0887"
             ],
             [
              0.1111111111111111,
              "#46039f"
             ],
             [
              0.2222222222222222,
              "#7201a8"
             ],
             [
              0.3333333333333333,
              "#9c179e"
             ],
             [
              0.4444444444444444,
              "#bd3786"
             ],
             [
              0.5555555555555556,
              "#d8576b"
             ],
             [
              0.6666666666666666,
              "#ed7953"
             ],
             [
              0.7777777777777778,
              "#fb9f3a"
             ],
             [
              0.8888888888888888,
              "#fdca26"
             ],
             [
              1,
              "#f0f921"
             ]
            ],
            "type": "histogram2dcontour"
           }
          ],
          "mesh3d": [
           {
            "colorbar": {
             "outlinewidth": 0,
             "ticks": ""
            },
            "type": "mesh3d"
           }
          ],
          "parcoords": [
           {
            "line": {
             "colorbar": {
              "outlinewidth": 0,
              "ticks": ""
             }
            },
            "type": "parcoords"
           }
          ],
          "pie": [
           {
            "automargin": true,
            "type": "pie"
           }
          ],
          "scatter": [
           {
            "fillpattern": {
             "fillmode": "overlay",
             "size": 10,
             "solidity": 0.2
            },
            "type": "scatter"
           }
          ],
          "scatter3d": [
           {
            "line": {
             "colorbar": {
              "outlinewidth": 0,
              "ticks": ""
             }
            },
            "marker": {
             "colorbar": {
              "outlinewidth": 0,
              "ticks": ""
             }
            },
            "type": "scatter3d"
           }
          ],
          "scattercarpet": [
           {
            "marker": {
             "colorbar": {
              "outlinewidth": 0,
              "ticks": ""
             }
            },
            "type": "scattercarpet"
           }
          ],
          "scattergeo": [
           {
            "marker": {
             "colorbar": {
              "outlinewidth": 0,
              "ticks": ""
             }
            },
            "type": "scattergeo"
           }
          ],
          "scattergl": [
           {
            "marker": {
             "colorbar": {
              "outlinewidth": 0,
              "ticks": ""
             }
            },
            "type": "scattergl"
           }
          ],
          "scattermapbox": [
           {
            "marker": {
             "colorbar": {
              "outlinewidth": 0,
              "ticks": ""
             }
            },
            "type": "scattermapbox"
           }
          ],
          "scatterpolar": [
           {
            "marker": {
             "colorbar": {
              "outlinewidth": 0,
              "ticks": ""
             }
            },
            "type": "scatterpolar"
           }
          ],
          "scatterpolargl": [
           {
            "marker": {
             "colorbar": {
              "outlinewidth": 0,
              "ticks": ""
             }
            },
            "type": "scatterpolargl"
           }
          ],
          "scatterternary": [
           {
            "marker": {
             "colorbar": {
              "outlinewidth": 0,
              "ticks": ""
             }
            },
            "type": "scatterternary"
           }
          ],
          "surface": [
           {
            "colorbar": {
             "outlinewidth": 0,
             "ticks": ""
            },
            "colorscale": [
             [
              0,
              "#0d0887"
             ],
             [
              0.1111111111111111,
              "#46039f"
             ],
             [
              0.2222222222222222,
              "#7201a8"
             ],
             [
              0.3333333333333333,
              "#9c179e"
             ],
             [
              0.4444444444444444,
              "#bd3786"
             ],
             [
              0.5555555555555556,
              "#d8576b"
             ],
             [
              0.6666666666666666,
              "#ed7953"
             ],
             [
              0.7777777777777778,
              "#fb9f3a"
             ],
             [
              0.8888888888888888,
              "#fdca26"
             ],
             [
              1,
              "#f0f921"
             ]
            ],
            "type": "surface"
           }
          ],
          "table": [
           {
            "cells": {
             "fill": {
              "color": "#EBF0F8"
             },
             "line": {
              "color": "white"
             }
            },
            "header": {
             "fill": {
              "color": "#C8D4E3"
             },
             "line": {
              "color": "white"
             }
            },
            "type": "table"
           }
          ]
         },
         "layout": {
          "annotationdefaults": {
           "arrowcolor": "#2a3f5f",
           "arrowhead": 0,
           "arrowwidth": 1
          },
          "autotypenumbers": "strict",
          "coloraxis": {
           "colorbar": {
            "outlinewidth": 0,
            "ticks": ""
           }
          },
          "colorscale": {
           "diverging": [
            [
             0,
             "#8e0152"
            ],
            [
             0.1,
             "#c51b7d"
            ],
            [
             0.2,
             "#de77ae"
            ],
            [
             0.3,
             "#f1b6da"
            ],
            [
             0.4,
             "#fde0ef"
            ],
            [
             0.5,
             "#f7f7f7"
            ],
            [
             0.6,
             "#e6f5d0"
            ],
            [
             0.7,
             "#b8e186"
            ],
            [
             0.8,
             "#7fbc41"
            ],
            [
             0.9,
             "#4d9221"
            ],
            [
             1,
             "#276419"
            ]
           ],
           "sequential": [
            [
             0,
             "#0d0887"
            ],
            [
             0.1111111111111111,
             "#46039f"
            ],
            [
             0.2222222222222222,
             "#7201a8"
            ],
            [
             0.3333333333333333,
             "#9c179e"
            ],
            [
             0.4444444444444444,
             "#bd3786"
            ],
            [
             0.5555555555555556,
             "#d8576b"
            ],
            [
             0.6666666666666666,
             "#ed7953"
            ],
            [
             0.7777777777777778,
             "#fb9f3a"
            ],
            [
             0.8888888888888888,
             "#fdca26"
            ],
            [
             1,
             "#f0f921"
            ]
           ],
           "sequentialminus": [
            [
             0,
             "#0d0887"
            ],
            [
             0.1111111111111111,
             "#46039f"
            ],
            [
             0.2222222222222222,
             "#7201a8"
            ],
            [
             0.3333333333333333,
             "#9c179e"
            ],
            [
             0.4444444444444444,
             "#bd3786"
            ],
            [
             0.5555555555555556,
             "#d8576b"
            ],
            [
             0.6666666666666666,
             "#ed7953"
            ],
            [
             0.7777777777777778,
             "#fb9f3a"
            ],
            [
             0.8888888888888888,
             "#fdca26"
            ],
            [
             1,
             "#f0f921"
            ]
           ]
          },
          "colorway": [
           "#636efa",
           "#EF553B",
           "#00cc96",
           "#ab63fa",
           "#FFA15A",
           "#19d3f3",
           "#FF6692",
           "#B6E880",
           "#FF97FF",
           "#FECB52"
          ],
          "font": {
           "color": "#2a3f5f"
          },
          "geo": {
           "bgcolor": "white",
           "lakecolor": "white",
           "landcolor": "#E5ECF6",
           "showlakes": true,
           "showland": true,
           "subunitcolor": "white"
          },
          "hoverlabel": {
           "align": "left"
          },
          "hovermode": "closest",
          "mapbox": {
           "style": "light"
          },
          "paper_bgcolor": "white",
          "plot_bgcolor": "#E5ECF6",
          "polar": {
           "angularaxis": {
            "gridcolor": "white",
            "linecolor": "white",
            "ticks": ""
           },
           "bgcolor": "#E5ECF6",
           "radialaxis": {
            "gridcolor": "white",
            "linecolor": "white",
            "ticks": ""
           }
          },
          "scene": {
           "xaxis": {
            "backgroundcolor": "#E5ECF6",
            "gridcolor": "white",
            "gridwidth": 2,
            "linecolor": "white",
            "showbackground": true,
            "ticks": "",
            "zerolinecolor": "white"
           },
           "yaxis": {
            "backgroundcolor": "#E5ECF6",
            "gridcolor": "white",
            "gridwidth": 2,
            "linecolor": "white",
            "showbackground": true,
            "ticks": "",
            "zerolinecolor": "white"
           },
           "zaxis": {
            "backgroundcolor": "#E5ECF6",
            "gridcolor": "white",
            "gridwidth": 2,
            "linecolor": "white",
            "showbackground": true,
            "ticks": "",
            "zerolinecolor": "white"
           }
          },
          "shapedefaults": {
           "line": {
            "color": "#2a3f5f"
           }
          },
          "ternary": {
           "aaxis": {
            "gridcolor": "white",
            "linecolor": "white",
            "ticks": ""
           },
           "baxis": {
            "gridcolor": "white",
            "linecolor": "white",
            "ticks": ""
           },
           "bgcolor": "#E5ECF6",
           "caxis": {
            "gridcolor": "white",
            "linecolor": "white",
            "ticks": ""
           }
          },
          "title": {
           "x": 0.05
          },
          "xaxis": {
           "automargin": true,
           "gridcolor": "white",
           "linecolor": "white",
           "ticks": "",
           "title": {
            "standoff": 15
           },
           "zerolinecolor": "white",
           "zerolinewidth": 2
          },
          "yaxis": {
           "automargin": true,
           "gridcolor": "white",
           "linecolor": "white",
           "ticks": "",
           "title": {
            "standoff": 15
           },
           "zerolinecolor": "white",
           "zerolinewidth": 2
          }
         }
        },
        "title": {
         "text": "Hyperparameter Importances"
        },
        "xaxis": {
         "title": {
          "text": "Hyperparameter Importance"
         }
        },
        "yaxis": {
         "title": {
          "text": "Hyperparameter"
         }
        }
       }
      }
     },
     "metadata": {},
     "output_type": "display_data"
    },
    {
     "name": "stdout",
     "output_type": "stream",
     "text": [
      "Best trial: 6 with value: 0.9824561403508771\n",
      "(\"Best params: {'lambda_l1': 2.3883141049693244e-08, 'lambda_l2': \"\n",
      " \"2.9758116097509773e-07, 'num_leaves': 208, 'feature_fraction': \"\n",
      " \"0.8957768077257513, 'bagging_fraction': 0.9180711062834542, 'bagging_freq': \"\n",
      " \"6, 'min_child_samples': 97}\")\n"
     ]
    }
   ],
   "source": [
    "\n",
    "\n",
    "# Add stream handler of stdout to show the messages\n",
    "optuna.logging.set_verbosity(optuna.logging.WARNING)\n",
    "n_trials = 50\n",
    "study_stop_cb = verbosityCallback(model)\n",
    "\n",
    "study = optuna.create_study(\n",
    "    direction=\"maximize\",\n",
    "    pruner=optuna.pruners.SuccessiveHalvingPruner(reduction_factor=4),\n",
    "    sampler=optuna.samplers.RandomSampler(),\n",
    ")\n",
    "study.optimize(objective, n_trials=n_trials, callbacks=[study_stop_cb], n_jobs=-1, show_progress_bar=True)\n",
    "plot_study(study)"
   ]
  },
  {
   "cell_type": "code",
   "execution_count": 9,
   "metadata": {
    "metadata": {}
   },
   "outputs": [
    {
     "name": "stderr",
     "output_type": "stream",
     "text": [
      "Best trial: 55. Best value: 0.989474: 100%|██████████| 100/100 [00:08<00:00, 12.02it/s]\n"
     ]
    },
    {
     "data": {
      "application/vnd.plotly.v1+json": {
       "config": {
        "plotlyServerURL": "https://plot.ly"
       },
       "data": [
        {
         "mode": "markers",
         "name": "Objective Value",
         "type": "scatter",
         "x": [
          0,
          1,
          2,
          3,
          4,
          5,
          6,
          7,
          8,
          9,
          10,
          11,
          12,
          13,
          14,
          15,
          16,
          17,
          18,
          19,
          20,
          21,
          22,
          23,
          24,
          25,
          26,
          27,
          28,
          29,
          30,
          31,
          32,
          33,
          34,
          35,
          36,
          37,
          38,
          39,
          40,
          41,
          42,
          43,
          44,
          45,
          46,
          47,
          48,
          49,
          50,
          51,
          52,
          53,
          54,
          55,
          56,
          57,
          58,
          59,
          60,
          61,
          62,
          63,
          64,
          65,
          66,
          67,
          68,
          69,
          70,
          71,
          72,
          73,
          74,
          75,
          76,
          77,
          78,
          79,
          80,
          81,
          82,
          83,
          84,
          85,
          86,
          87,
          88,
          89,
          90,
          91,
          92,
          93,
          94,
          95,
          96,
          97,
          98,
          99
         ],
         "y": [
          0.9719298245614035,
          0.9614035087719298,
          0.9438596491228071,
          0.9754385964912281,
          0.9508771929824561,
          0.9473684210526315,
          0.9578947368421052,
          0.9754385964912281,
          0.968421052631579,
          0.968421052631579,
          0.9017543859649123,
          0.9543859649122807,
          0.9368421052631579,
          0.9263157894736842,
          0.9614035087719298,
          0.9719298245614035,
          0.9543859649122807,
          0.9719298245614035,
          0.9649122807017544,
          0.9578947368421052,
          0.9614035087719298,
          0.9473684210526315,
          0.9649122807017544,
          0.9508771929824561,
          0.9789473684210527,
          0.9649122807017544,
          0.9228070175438596,
          0.9263157894736842,
          0.9578947368421052,
          0.9614035087719298,
          0.9859649122807017,
          0.9824561403508771,
          0.9578947368421052,
          0.9578947368421052,
          0.9578947368421052,
          0.9754385964912281,
          0.9578947368421052,
          0.9649122807017544,
          0.9649122807017544,
          0.9649122807017544,
          0.968421052631579,
          0.9614035087719298,
          0.9719298245614035,
          0.9754385964912281,
          0.9543859649122807,
          0.9649122807017544,
          0.968421052631579,
          0.9578947368421052,
          0.9649122807017544,
          0.9403508771929825,
          0.9473684210526315,
          0.9578947368421052,
          0.9578947368421052,
          0.968421052631579,
          0.968421052631579,
          0.9894736842105263,
          0.9789473684210527,
          0.9789473684210527,
          0.9543859649122807,
          0.9578947368421052,
          0.968421052631579,
          0.9578947368421052,
          0.9403508771929825,
          0.9578947368421052,
          0.968421052631579,
          0.9649122807017544,
          0.9543859649122807,
          0.9508771929824561,
          0.9894736842105263,
          0.9754385964912281,
          0.9824561403508771,
          0.9578947368421052,
          0.9649122807017544,
          0.9403508771929825,
          0.9789473684210527,
          0.9578947368421052,
          0.9508771929824561,
          0.968421052631579,
          0.9614035087719298,
          0.9473684210526315,
          0.9614035087719298,
          0.968421052631579,
          0.968421052631579,
          0.9473684210526315,
          0.9754385964912281,
          0.9403508771929825,
          0.9719298245614035,
          0.9754385964912281,
          0.9438596491228071,
          0.9298245614035088,
          0.9649122807017544,
          0.9508771929824561,
          0.9649122807017544,
          0.9543859649122807,
          0.9614035087719298,
          0.9614035087719298,
          0.9719298245614035,
          0.9719298245614035,
          0.9824561403508771,
          0.9719298245614035
         ]
        },
        {
         "mode": "lines",
         "name": "Best Value",
         "type": "scatter",
         "x": [
          0,
          1,
          2,
          3,
          4,
          5,
          6,
          7,
          8,
          9,
          10,
          11,
          12,
          13,
          14,
          15,
          16,
          17,
          18,
          19,
          20,
          21,
          22,
          23,
          24,
          25,
          26,
          27,
          28,
          29,
          30,
          31,
          32,
          33,
          34,
          35,
          36,
          37,
          38,
          39,
          40,
          41,
          42,
          43,
          44,
          45,
          46,
          47,
          48,
          49,
          50,
          51,
          52,
          53,
          54,
          55,
          56,
          57,
          58,
          59,
          60,
          61,
          62,
          63,
          64,
          65,
          66,
          67,
          68,
          69,
          70,
          71,
          72,
          73,
          74,
          75,
          76,
          77,
          78,
          79,
          80,
          81,
          82,
          83,
          84,
          85,
          86,
          87,
          88,
          89,
          90,
          91,
          92,
          93,
          94,
          95,
          96,
          97,
          98,
          99
         ],
         "y": [
          0.9719298245614035,
          0.9719298245614035,
          0.9719298245614035,
          0.9754385964912281,
          0.9754385964912281,
          0.9754385964912281,
          0.9754385964912281,
          0.9754385964912281,
          0.9754385964912281,
          0.9754385964912281,
          0.9754385964912281,
          0.9754385964912281,
          0.9754385964912281,
          0.9754385964912281,
          0.9754385964912281,
          0.9754385964912281,
          0.9754385964912281,
          0.9754385964912281,
          0.9754385964912281,
          0.9754385964912281,
          0.9754385964912281,
          0.9754385964912281,
          0.9754385964912281,
          0.9754385964912281,
          0.9789473684210527,
          0.9789473684210527,
          0.9789473684210527,
          0.9789473684210527,
          0.9789473684210527,
          0.9789473684210527,
          0.9859649122807017,
          0.9859649122807017,
          0.9859649122807017,
          0.9859649122807017,
          0.9859649122807017,
          0.9859649122807017,
          0.9859649122807017,
          0.9859649122807017,
          0.9859649122807017,
          0.9859649122807017,
          0.9859649122807017,
          0.9859649122807017,
          0.9859649122807017,
          0.9859649122807017,
          0.9859649122807017,
          0.9859649122807017,
          0.9859649122807017,
          0.9859649122807017,
          0.9859649122807017,
          0.9859649122807017,
          0.9859649122807017,
          0.9859649122807017,
          0.9859649122807017,
          0.9859649122807017,
          0.9859649122807017,
          0.9894736842105263,
          0.9894736842105263,
          0.9894736842105263,
          0.9894736842105263,
          0.9894736842105263,
          0.9894736842105263,
          0.9894736842105263,
          0.9894736842105263,
          0.9894736842105263,
          0.9894736842105263,
          0.9894736842105263,
          0.9894736842105263,
          0.9894736842105263,
          0.9894736842105263,
          0.9894736842105263,
          0.9894736842105263,
          0.9894736842105263,
          0.9894736842105263,
          0.9894736842105263,
          0.9894736842105263,
          0.9894736842105263,
          0.9894736842105263,
          0.9894736842105263,
          0.9894736842105263,
          0.9894736842105263,
          0.9894736842105263,
          0.9894736842105263,
          0.9894736842105263,
          0.9894736842105263,
          0.9894736842105263,
          0.9894736842105263,
          0.9894736842105263,
          0.9894736842105263,
          0.9894736842105263,
          0.9894736842105263,
          0.9894736842105263,
          0.9894736842105263,
          0.9894736842105263,
          0.9894736842105263,
          0.9894736842105263,
          0.9894736842105263,
          0.9894736842105263,
          0.9894736842105263,
          0.9894736842105263,
          0.9894736842105263
         ]
        },
        {
         "marker": {
          "color": "#cccccc"
         },
         "mode": "markers",
         "name": "Infeasible Trial",
         "showlegend": false,
         "type": "scatter",
         "x": [],
         "y": []
        }
       ],
       "layout": {
        "template": {
         "data": {
          "bar": [
           {
            "error_x": {
             "color": "#2a3f5f"
            },
            "error_y": {
             "color": "#2a3f5f"
            },
            "marker": {
             "line": {
              "color": "#E5ECF6",
              "width": 0.5
             },
             "pattern": {
              "fillmode": "overlay",
              "size": 10,
              "solidity": 0.2
             }
            },
            "type": "bar"
           }
          ],
          "barpolar": [
           {
            "marker": {
             "line": {
              "color": "#E5ECF6",
              "width": 0.5
             },
             "pattern": {
              "fillmode": "overlay",
              "size": 10,
              "solidity": 0.2
             }
            },
            "type": "barpolar"
           }
          ],
          "carpet": [
           {
            "aaxis": {
             "endlinecolor": "#2a3f5f",
             "gridcolor": "white",
             "linecolor": "white",
             "minorgridcolor": "white",
             "startlinecolor": "#2a3f5f"
            },
            "baxis": {
             "endlinecolor": "#2a3f5f",
             "gridcolor": "white",
             "linecolor": "white",
             "minorgridcolor": "white",
             "startlinecolor": "#2a3f5f"
            },
            "type": "carpet"
           }
          ],
          "choropleth": [
           {
            "colorbar": {
             "outlinewidth": 0,
             "ticks": ""
            },
            "type": "choropleth"
           }
          ],
          "contour": [
           {
            "colorbar": {
             "outlinewidth": 0,
             "ticks": ""
            },
            "colorscale": [
             [
              0,
              "#0d0887"
             ],
             [
              0.1111111111111111,
              "#46039f"
             ],
             [
              0.2222222222222222,
              "#7201a8"
             ],
             [
              0.3333333333333333,
              "#9c179e"
             ],
             [
              0.4444444444444444,
              "#bd3786"
             ],
             [
              0.5555555555555556,
              "#d8576b"
             ],
             [
              0.6666666666666666,
              "#ed7953"
             ],
             [
              0.7777777777777778,
              "#fb9f3a"
             ],
             [
              0.8888888888888888,
              "#fdca26"
             ],
             [
              1,
              "#f0f921"
             ]
            ],
            "type": "contour"
           }
          ],
          "contourcarpet": [
           {
            "colorbar": {
             "outlinewidth": 0,
             "ticks": ""
            },
            "type": "contourcarpet"
           }
          ],
          "heatmap": [
           {
            "colorbar": {
             "outlinewidth": 0,
             "ticks": ""
            },
            "colorscale": [
             [
              0,
              "#0d0887"
             ],
             [
              0.1111111111111111,
              "#46039f"
             ],
             [
              0.2222222222222222,
              "#7201a8"
             ],
             [
              0.3333333333333333,
              "#9c179e"
             ],
             [
              0.4444444444444444,
              "#bd3786"
             ],
             [
              0.5555555555555556,
              "#d8576b"
             ],
             [
              0.6666666666666666,
              "#ed7953"
             ],
             [
              0.7777777777777778,
              "#fb9f3a"
             ],
             [
              0.8888888888888888,
              "#fdca26"
             ],
             [
              1,
              "#f0f921"
             ]
            ],
            "type": "heatmap"
           }
          ],
          "heatmapgl": [
           {
            "colorbar": {
             "outlinewidth": 0,
             "ticks": ""
            },
            "colorscale": [
             [
              0,
              "#0d0887"
             ],
             [
              0.1111111111111111,
              "#46039f"
             ],
             [
              0.2222222222222222,
              "#7201a8"
             ],
             [
              0.3333333333333333,
              "#9c179e"
             ],
             [
              0.4444444444444444,
              "#bd3786"
             ],
             [
              0.5555555555555556,
              "#d8576b"
             ],
             [
              0.6666666666666666,
              "#ed7953"
             ],
             [
              0.7777777777777778,
              "#fb9f3a"
             ],
             [
              0.8888888888888888,
              "#fdca26"
             ],
             [
              1,
              "#f0f921"
             ]
            ],
            "type": "heatmapgl"
           }
          ],
          "histogram": [
           {
            "marker": {
             "pattern": {
              "fillmode": "overlay",
              "size": 10,
              "solidity": 0.2
             }
            },
            "type": "histogram"
           }
          ],
          "histogram2d": [
           {
            "colorbar": {
             "outlinewidth": 0,
             "ticks": ""
            },
            "colorscale": [
             [
              0,
              "#0d0887"
             ],
             [
              0.1111111111111111,
              "#46039f"
             ],
             [
              0.2222222222222222,
              "#7201a8"
             ],
             [
              0.3333333333333333,
              "#9c179e"
             ],
             [
              0.4444444444444444,
              "#bd3786"
             ],
             [
              0.5555555555555556,
              "#d8576b"
             ],
             [
              0.6666666666666666,
              "#ed7953"
             ],
             [
              0.7777777777777778,
              "#fb9f3a"
             ],
             [
              0.8888888888888888,
              "#fdca26"
             ],
             [
              1,
              "#f0f921"
             ]
            ],
            "type": "histogram2d"
           }
          ],
          "histogram2dcontour": [
           {
            "colorbar": {
             "outlinewidth": 0,
             "ticks": ""
            },
            "colorscale": [
             [
              0,
              "#0d0887"
             ],
             [
              0.1111111111111111,
              "#46039f"
             ],
             [
              0.2222222222222222,
              "#7201a8"
             ],
             [
              0.3333333333333333,
              "#9c179e"
             ],
             [
              0.4444444444444444,
              "#bd3786"
             ],
             [
              0.5555555555555556,
              "#d8576b"
             ],
             [
              0.6666666666666666,
              "#ed7953"
             ],
             [
              0.7777777777777778,
              "#fb9f3a"
             ],
             [
              0.8888888888888888,
              "#fdca26"
             ],
             [
              1,
              "#f0f921"
             ]
            ],
            "type": "histogram2dcontour"
           }
          ],
          "mesh3d": [
           {
            "colorbar": {
             "outlinewidth": 0,
             "ticks": ""
            },
            "type": "mesh3d"
           }
          ],
          "parcoords": [
           {
            "line": {
             "colorbar": {
              "outlinewidth": 0,
              "ticks": ""
             }
            },
            "type": "parcoords"
           }
          ],
          "pie": [
           {
            "automargin": true,
            "type": "pie"
           }
          ],
          "scatter": [
           {
            "fillpattern": {
             "fillmode": "overlay",
             "size": 10,
             "solidity": 0.2
            },
            "type": "scatter"
           }
          ],
          "scatter3d": [
           {
            "line": {
             "colorbar": {
              "outlinewidth": 0,
              "ticks": ""
             }
            },
            "marker": {
             "colorbar": {
              "outlinewidth": 0,
              "ticks": ""
             }
            },
            "type": "scatter3d"
           }
          ],
          "scattercarpet": [
           {
            "marker": {
             "colorbar": {
              "outlinewidth": 0,
              "ticks": ""
             }
            },
            "type": "scattercarpet"
           }
          ],
          "scattergeo": [
           {
            "marker": {
             "colorbar": {
              "outlinewidth": 0,
              "ticks": ""
             }
            },
            "type": "scattergeo"
           }
          ],
          "scattergl": [
           {
            "marker": {
             "colorbar": {
              "outlinewidth": 0,
              "ticks": ""
             }
            },
            "type": "scattergl"
           }
          ],
          "scattermapbox": [
           {
            "marker": {
             "colorbar": {
              "outlinewidth": 0,
              "ticks": ""
             }
            },
            "type": "scattermapbox"
           }
          ],
          "scatterpolar": [
           {
            "marker": {
             "colorbar": {
              "outlinewidth": 0,
              "ticks": ""
             }
            },
            "type": "scatterpolar"
           }
          ],
          "scatterpolargl": [
           {
            "marker": {
             "colorbar": {
              "outlinewidth": 0,
              "ticks": ""
             }
            },
            "type": "scatterpolargl"
           }
          ],
          "scatterternary": [
           {
            "marker": {
             "colorbar": {
              "outlinewidth": 0,
              "ticks": ""
             }
            },
            "type": "scatterternary"
           }
          ],
          "surface": [
           {
            "colorbar": {
             "outlinewidth": 0,
             "ticks": ""
            },
            "colorscale": [
             [
              0,
              "#0d0887"
             ],
             [
              0.1111111111111111,
              "#46039f"
             ],
             [
              0.2222222222222222,
              "#7201a8"
             ],
             [
              0.3333333333333333,
              "#9c179e"
             ],
             [
              0.4444444444444444,
              "#bd3786"
             ],
             [
              0.5555555555555556,
              "#d8576b"
             ],
             [
              0.6666666666666666,
              "#ed7953"
             ],
             [
              0.7777777777777778,
              "#fb9f3a"
             ],
             [
              0.8888888888888888,
              "#fdca26"
             ],
             [
              1,
              "#f0f921"
             ]
            ],
            "type": "surface"
           }
          ],
          "table": [
           {
            "cells": {
             "fill": {
              "color": "#EBF0F8"
             },
             "line": {
              "color": "white"
             }
            },
            "header": {
             "fill": {
              "color": "#C8D4E3"
             },
             "line": {
              "color": "white"
             }
            },
            "type": "table"
           }
          ]
         },
         "layout": {
          "annotationdefaults": {
           "arrowcolor": "#2a3f5f",
           "arrowhead": 0,
           "arrowwidth": 1
          },
          "autotypenumbers": "strict",
          "coloraxis": {
           "colorbar": {
            "outlinewidth": 0,
            "ticks": ""
           }
          },
          "colorscale": {
           "diverging": [
            [
             0,
             "#8e0152"
            ],
            [
             0.1,
             "#c51b7d"
            ],
            [
             0.2,
             "#de77ae"
            ],
            [
             0.3,
             "#f1b6da"
            ],
            [
             0.4,
             "#fde0ef"
            ],
            [
             0.5,
             "#f7f7f7"
            ],
            [
             0.6,
             "#e6f5d0"
            ],
            [
             0.7,
             "#b8e186"
            ],
            [
             0.8,
             "#7fbc41"
            ],
            [
             0.9,
             "#4d9221"
            ],
            [
             1,
             "#276419"
            ]
           ],
           "sequential": [
            [
             0,
             "#0d0887"
            ],
            [
             0.1111111111111111,
             "#46039f"
            ],
            [
             0.2222222222222222,
             "#7201a8"
            ],
            [
             0.3333333333333333,
             "#9c179e"
            ],
            [
             0.4444444444444444,
             "#bd3786"
            ],
            [
             0.5555555555555556,
             "#d8576b"
            ],
            [
             0.6666666666666666,
             "#ed7953"
            ],
            [
             0.7777777777777778,
             "#fb9f3a"
            ],
            [
             0.8888888888888888,
             "#fdca26"
            ],
            [
             1,
             "#f0f921"
            ]
           ],
           "sequentialminus": [
            [
             0,
             "#0d0887"
            ],
            [
             0.1111111111111111,
             "#46039f"
            ],
            [
             0.2222222222222222,
             "#7201a8"
            ],
            [
             0.3333333333333333,
             "#9c179e"
            ],
            [
             0.4444444444444444,
             "#bd3786"
            ],
            [
             0.5555555555555556,
             "#d8576b"
            ],
            [
             0.6666666666666666,
             "#ed7953"
            ],
            [
             0.7777777777777778,
             "#fb9f3a"
            ],
            [
             0.8888888888888888,
             "#fdca26"
            ],
            [
             1,
             "#f0f921"
            ]
           ]
          },
          "colorway": [
           "#636efa",
           "#EF553B",
           "#00cc96",
           "#ab63fa",
           "#FFA15A",
           "#19d3f3",
           "#FF6692",
           "#B6E880",
           "#FF97FF",
           "#FECB52"
          ],
          "font": {
           "color": "#2a3f5f"
          },
          "geo": {
           "bgcolor": "white",
           "lakecolor": "white",
           "landcolor": "#E5ECF6",
           "showlakes": true,
           "showland": true,
           "subunitcolor": "white"
          },
          "hoverlabel": {
           "align": "left"
          },
          "hovermode": "closest",
          "mapbox": {
           "style": "light"
          },
          "paper_bgcolor": "white",
          "plot_bgcolor": "#E5ECF6",
          "polar": {
           "angularaxis": {
            "gridcolor": "white",
            "linecolor": "white",
            "ticks": ""
           },
           "bgcolor": "#E5ECF6",
           "radialaxis": {
            "gridcolor": "white",
            "linecolor": "white",
            "ticks": ""
           }
          },
          "scene": {
           "xaxis": {
            "backgroundcolor": "#E5ECF6",
            "gridcolor": "white",
            "gridwidth": 2,
            "linecolor": "white",
            "showbackground": true,
            "ticks": "",
            "zerolinecolor": "white"
           },
           "yaxis": {
            "backgroundcolor": "#E5ECF6",
            "gridcolor": "white",
            "gridwidth": 2,
            "linecolor": "white",
            "showbackground": true,
            "ticks": "",
            "zerolinecolor": "white"
           },
           "zaxis": {
            "backgroundcolor": "#E5ECF6",
            "gridcolor": "white",
            "gridwidth": 2,
            "linecolor": "white",
            "showbackground": true,
            "ticks": "",
            "zerolinecolor": "white"
           }
          },
          "shapedefaults": {
           "line": {
            "color": "#2a3f5f"
           }
          },
          "ternary": {
           "aaxis": {
            "gridcolor": "white",
            "linecolor": "white",
            "ticks": ""
           },
           "baxis": {
            "gridcolor": "white",
            "linecolor": "white",
            "ticks": ""
           },
           "bgcolor": "#E5ECF6",
           "caxis": {
            "gridcolor": "white",
            "linecolor": "white",
            "ticks": ""
           }
          },
          "title": {
           "x": 0.05
          },
          "xaxis": {
           "automargin": true,
           "gridcolor": "white",
           "linecolor": "white",
           "ticks": "",
           "title": {
            "standoff": 15
           },
           "zerolinecolor": "white",
           "zerolinewidth": 2
          },
          "yaxis": {
           "automargin": true,
           "gridcolor": "white",
           "linecolor": "white",
           "ticks": "",
           "title": {
            "standoff": 15
           },
           "zerolinecolor": "white",
           "zerolinewidth": 2
          }
         }
        },
        "title": {
         "text": "Optimization History Plot"
        },
        "xaxis": {
         "title": {
          "text": "Trial"
         }
        },
        "yaxis": {
         "title": {
          "text": "Objective Value"
         }
        }
       }
      }
     },
     "metadata": {},
     "output_type": "display_data"
    },
    {
     "data": {
      "application/vnd.plotly.v1+json": {
       "config": {
        "plotlyServerURL": "https://plot.ly"
       },
       "data": [
        {
         "cliponaxis": false,
         "hovertemplate": [
          "bagging_fraction (FloatDistribution): 0.05317723503224376<extra></extra>",
          "feature_fraction (FloatDistribution): 0.0609045905075281<extra></extra>",
          "min_child_samples (IntDistribution): 0.07935497252976433<extra></extra>",
          "num_leaves (IntDistribution): 0.08443195497073143<extra></extra>",
          "lambda_l1 (FloatDistribution): 0.10466432605079731<extra></extra>",
          "bagging_freq (IntDistribution): 0.14465710870949047<extra></extra>",
          "lambda_l2 (FloatDistribution): 0.47280981219944457<extra></extra>"
         ],
         "name": "Objective Value",
         "orientation": "h",
         "text": [
          "0.05",
          "0.06",
          "0.08",
          "0.08",
          "0.10",
          "0.14",
          "0.47"
         ],
         "textposition": "outside",
         "type": "bar",
         "x": [
          0.05317723503224376,
          0.0609045905075281,
          0.07935497252976433,
          0.08443195497073143,
          0.10466432605079731,
          0.14465710870949047,
          0.47280981219944457
         ],
         "y": [
          "bagging_fraction",
          "feature_fraction",
          "min_child_samples",
          "num_leaves",
          "lambda_l1",
          "bagging_freq",
          "lambda_l2"
         ]
        }
       ],
       "layout": {
        "template": {
         "data": {
          "bar": [
           {
            "error_x": {
             "color": "#2a3f5f"
            },
            "error_y": {
             "color": "#2a3f5f"
            },
            "marker": {
             "line": {
              "color": "#E5ECF6",
              "width": 0.5
             },
             "pattern": {
              "fillmode": "overlay",
              "size": 10,
              "solidity": 0.2
             }
            },
            "type": "bar"
           }
          ],
          "barpolar": [
           {
            "marker": {
             "line": {
              "color": "#E5ECF6",
              "width": 0.5
             },
             "pattern": {
              "fillmode": "overlay",
              "size": 10,
              "solidity": 0.2
             }
            },
            "type": "barpolar"
           }
          ],
          "carpet": [
           {
            "aaxis": {
             "endlinecolor": "#2a3f5f",
             "gridcolor": "white",
             "linecolor": "white",
             "minorgridcolor": "white",
             "startlinecolor": "#2a3f5f"
            },
            "baxis": {
             "endlinecolor": "#2a3f5f",
             "gridcolor": "white",
             "linecolor": "white",
             "minorgridcolor": "white",
             "startlinecolor": "#2a3f5f"
            },
            "type": "carpet"
           }
          ],
          "choropleth": [
           {
            "colorbar": {
             "outlinewidth": 0,
             "ticks": ""
            },
            "type": "choropleth"
           }
          ],
          "contour": [
           {
            "colorbar": {
             "outlinewidth": 0,
             "ticks": ""
            },
            "colorscale": [
             [
              0,
              "#0d0887"
             ],
             [
              0.1111111111111111,
              "#46039f"
             ],
             [
              0.2222222222222222,
              "#7201a8"
             ],
             [
              0.3333333333333333,
              "#9c179e"
             ],
             [
              0.4444444444444444,
              "#bd3786"
             ],
             [
              0.5555555555555556,
              "#d8576b"
             ],
             [
              0.6666666666666666,
              "#ed7953"
             ],
             [
              0.7777777777777778,
              "#fb9f3a"
             ],
             [
              0.8888888888888888,
              "#fdca26"
             ],
             [
              1,
              "#f0f921"
             ]
            ],
            "type": "contour"
           }
          ],
          "contourcarpet": [
           {
            "colorbar": {
             "outlinewidth": 0,
             "ticks": ""
            },
            "type": "contourcarpet"
           }
          ],
          "heatmap": [
           {
            "colorbar": {
             "outlinewidth": 0,
             "ticks": ""
            },
            "colorscale": [
             [
              0,
              "#0d0887"
             ],
             [
              0.1111111111111111,
              "#46039f"
             ],
             [
              0.2222222222222222,
              "#7201a8"
             ],
             [
              0.3333333333333333,
              "#9c179e"
             ],
             [
              0.4444444444444444,
              "#bd3786"
             ],
             [
              0.5555555555555556,
              "#d8576b"
             ],
             [
              0.6666666666666666,
              "#ed7953"
             ],
             [
              0.7777777777777778,
              "#fb9f3a"
             ],
             [
              0.8888888888888888,
              "#fdca26"
             ],
             [
              1,
              "#f0f921"
             ]
            ],
            "type": "heatmap"
           }
          ],
          "heatmapgl": [
           {
            "colorbar": {
             "outlinewidth": 0,
             "ticks": ""
            },
            "colorscale": [
             [
              0,
              "#0d0887"
             ],
             [
              0.1111111111111111,
              "#46039f"
             ],
             [
              0.2222222222222222,
              "#7201a8"
             ],
             [
              0.3333333333333333,
              "#9c179e"
             ],
             [
              0.4444444444444444,
              "#bd3786"
             ],
             [
              0.5555555555555556,
              "#d8576b"
             ],
             [
              0.6666666666666666,
              "#ed7953"
             ],
             [
              0.7777777777777778,
              "#fb9f3a"
             ],
             [
              0.8888888888888888,
              "#fdca26"
             ],
             [
              1,
              "#f0f921"
             ]
            ],
            "type": "heatmapgl"
           }
          ],
          "histogram": [
           {
            "marker": {
             "pattern": {
              "fillmode": "overlay",
              "size": 10,
              "solidity": 0.2
             }
            },
            "type": "histogram"
           }
          ],
          "histogram2d": [
           {
            "colorbar": {
             "outlinewidth": 0,
             "ticks": ""
            },
            "colorscale": [
             [
              0,
              "#0d0887"
             ],
             [
              0.1111111111111111,
              "#46039f"
             ],
             [
              0.2222222222222222,
              "#7201a8"
             ],
             [
              0.3333333333333333,
              "#9c179e"
             ],
             [
              0.4444444444444444,
              "#bd3786"
             ],
             [
              0.5555555555555556,
              "#d8576b"
             ],
             [
              0.6666666666666666,
              "#ed7953"
             ],
             [
              0.7777777777777778,
              "#fb9f3a"
             ],
             [
              0.8888888888888888,
              "#fdca26"
             ],
             [
              1,
              "#f0f921"
             ]
            ],
            "type": "histogram2d"
           }
          ],
          "histogram2dcontour": [
           {
            "colorbar": {
             "outlinewidth": 0,
             "ticks": ""
            },
            "colorscale": [
             [
              0,
              "#0d0887"
             ],
             [
              0.1111111111111111,
              "#46039f"
             ],
             [
              0.2222222222222222,
              "#7201a8"
             ],
             [
              0.3333333333333333,
              "#9c179e"
             ],
             [
              0.4444444444444444,
              "#bd3786"
             ],
             [
              0.5555555555555556,
              "#d8576b"
             ],
             [
              0.6666666666666666,
              "#ed7953"
             ],
             [
              0.7777777777777778,
              "#fb9f3a"
             ],
             [
              0.8888888888888888,
              "#fdca26"
             ],
             [
              1,
              "#f0f921"
             ]
            ],
            "type": "histogram2dcontour"
           }
          ],
          "mesh3d": [
           {
            "colorbar": {
             "outlinewidth": 0,
             "ticks": ""
            },
            "type": "mesh3d"
           }
          ],
          "parcoords": [
           {
            "line": {
             "colorbar": {
              "outlinewidth": 0,
              "ticks": ""
             }
            },
            "type": "parcoords"
           }
          ],
          "pie": [
           {
            "automargin": true,
            "type": "pie"
           }
          ],
          "scatter": [
           {
            "fillpattern": {
             "fillmode": "overlay",
             "size": 10,
             "solidity": 0.2
            },
            "type": "scatter"
           }
          ],
          "scatter3d": [
           {
            "line": {
             "colorbar": {
              "outlinewidth": 0,
              "ticks": ""
             }
            },
            "marker": {
             "colorbar": {
              "outlinewidth": 0,
              "ticks": ""
             }
            },
            "type": "scatter3d"
           }
          ],
          "scattercarpet": [
           {
            "marker": {
             "colorbar": {
              "outlinewidth": 0,
              "ticks": ""
             }
            },
            "type": "scattercarpet"
           }
          ],
          "scattergeo": [
           {
            "marker": {
             "colorbar": {
              "outlinewidth": 0,
              "ticks": ""
             }
            },
            "type": "scattergeo"
           }
          ],
          "scattergl": [
           {
            "marker": {
             "colorbar": {
              "outlinewidth": 0,
              "ticks": ""
             }
            },
            "type": "scattergl"
           }
          ],
          "scattermapbox": [
           {
            "marker": {
             "colorbar": {
              "outlinewidth": 0,
              "ticks": ""
             }
            },
            "type": "scattermapbox"
           }
          ],
          "scatterpolar": [
           {
            "marker": {
             "colorbar": {
              "outlinewidth": 0,
              "ticks": ""
             }
            },
            "type": "scatterpolar"
           }
          ],
          "scatterpolargl": [
           {
            "marker": {
             "colorbar": {
              "outlinewidth": 0,
              "ticks": ""
             }
            },
            "type": "scatterpolargl"
           }
          ],
          "scatterternary": [
           {
            "marker": {
             "colorbar": {
              "outlinewidth": 0,
              "ticks": ""
             }
            },
            "type": "scatterternary"
           }
          ],
          "surface": [
           {
            "colorbar": {
             "outlinewidth": 0,
             "ticks": ""
            },
            "colorscale": [
             [
              0,
              "#0d0887"
             ],
             [
              0.1111111111111111,
              "#46039f"
             ],
             [
              0.2222222222222222,
              "#7201a8"
             ],
             [
              0.3333333333333333,
              "#9c179e"
             ],
             [
              0.4444444444444444,
              "#bd3786"
             ],
             [
              0.5555555555555556,
              "#d8576b"
             ],
             [
              0.6666666666666666,
              "#ed7953"
             ],
             [
              0.7777777777777778,
              "#fb9f3a"
             ],
             [
              0.8888888888888888,
              "#fdca26"
             ],
             [
              1,
              "#f0f921"
             ]
            ],
            "type": "surface"
           }
          ],
          "table": [
           {
            "cells": {
             "fill": {
              "color": "#EBF0F8"
             },
             "line": {
              "color": "white"
             }
            },
            "header": {
             "fill": {
              "color": "#C8D4E3"
             },
             "line": {
              "color": "white"
             }
            },
            "type": "table"
           }
          ]
         },
         "layout": {
          "annotationdefaults": {
           "arrowcolor": "#2a3f5f",
           "arrowhead": 0,
           "arrowwidth": 1
          },
          "autotypenumbers": "strict",
          "coloraxis": {
           "colorbar": {
            "outlinewidth": 0,
            "ticks": ""
           }
          },
          "colorscale": {
           "diverging": [
            [
             0,
             "#8e0152"
            ],
            [
             0.1,
             "#c51b7d"
            ],
            [
             0.2,
             "#de77ae"
            ],
            [
             0.3,
             "#f1b6da"
            ],
            [
             0.4,
             "#fde0ef"
            ],
            [
             0.5,
             "#f7f7f7"
            ],
            [
             0.6,
             "#e6f5d0"
            ],
            [
             0.7,
             "#b8e186"
            ],
            [
             0.8,
             "#7fbc41"
            ],
            [
             0.9,
             "#4d9221"
            ],
            [
             1,
             "#276419"
            ]
           ],
           "sequential": [
            [
             0,
             "#0d0887"
            ],
            [
             0.1111111111111111,
             "#46039f"
            ],
            [
             0.2222222222222222,
             "#7201a8"
            ],
            [
             0.3333333333333333,
             "#9c179e"
            ],
            [
             0.4444444444444444,
             "#bd3786"
            ],
            [
             0.5555555555555556,
             "#d8576b"
            ],
            [
             0.6666666666666666,
             "#ed7953"
            ],
            [
             0.7777777777777778,
             "#fb9f3a"
            ],
            [
             0.8888888888888888,
             "#fdca26"
            ],
            [
             1,
             "#f0f921"
            ]
           ],
           "sequentialminus": [
            [
             0,
             "#0d0887"
            ],
            [
             0.1111111111111111,
             "#46039f"
            ],
            [
             0.2222222222222222,
             "#7201a8"
            ],
            [
             0.3333333333333333,
             "#9c179e"
            ],
            [
             0.4444444444444444,
             "#bd3786"
            ],
            [
             0.5555555555555556,
             "#d8576b"
            ],
            [
             0.6666666666666666,
             "#ed7953"
            ],
            [
             0.7777777777777778,
             "#fb9f3a"
            ],
            [
             0.8888888888888888,
             "#fdca26"
            ],
            [
             1,
             "#f0f921"
            ]
           ]
          },
          "colorway": [
           "#636efa",
           "#EF553B",
           "#00cc96",
           "#ab63fa",
           "#FFA15A",
           "#19d3f3",
           "#FF6692",
           "#B6E880",
           "#FF97FF",
           "#FECB52"
          ],
          "font": {
           "color": "#2a3f5f"
          },
          "geo": {
           "bgcolor": "white",
           "lakecolor": "white",
           "landcolor": "#E5ECF6",
           "showlakes": true,
           "showland": true,
           "subunitcolor": "white"
          },
          "hoverlabel": {
           "align": "left"
          },
          "hovermode": "closest",
          "mapbox": {
           "style": "light"
          },
          "paper_bgcolor": "white",
          "plot_bgcolor": "#E5ECF6",
          "polar": {
           "angularaxis": {
            "gridcolor": "white",
            "linecolor": "white",
            "ticks": ""
           },
           "bgcolor": "#E5ECF6",
           "radialaxis": {
            "gridcolor": "white",
            "linecolor": "white",
            "ticks": ""
           }
          },
          "scene": {
           "xaxis": {
            "backgroundcolor": "#E5ECF6",
            "gridcolor": "white",
            "gridwidth": 2,
            "linecolor": "white",
            "showbackground": true,
            "ticks": "",
            "zerolinecolor": "white"
           },
           "yaxis": {
            "backgroundcolor": "#E5ECF6",
            "gridcolor": "white",
            "gridwidth": 2,
            "linecolor": "white",
            "showbackground": true,
            "ticks": "",
            "zerolinecolor": "white"
           },
           "zaxis": {
            "backgroundcolor": "#E5ECF6",
            "gridcolor": "white",
            "gridwidth": 2,
            "linecolor": "white",
            "showbackground": true,
            "ticks": "",
            "zerolinecolor": "white"
           }
          },
          "shapedefaults": {
           "line": {
            "color": "#2a3f5f"
           }
          },
          "ternary": {
           "aaxis": {
            "gridcolor": "white",
            "linecolor": "white",
            "ticks": ""
           },
           "baxis": {
            "gridcolor": "white",
            "linecolor": "white",
            "ticks": ""
           },
           "bgcolor": "#E5ECF6",
           "caxis": {
            "gridcolor": "white",
            "linecolor": "white",
            "ticks": ""
           }
          },
          "title": {
           "x": 0.05
          },
          "xaxis": {
           "automargin": true,
           "gridcolor": "white",
           "linecolor": "white",
           "ticks": "",
           "title": {
            "standoff": 15
           },
           "zerolinecolor": "white",
           "zerolinewidth": 2
          },
          "yaxis": {
           "automargin": true,
           "gridcolor": "white",
           "linecolor": "white",
           "ticks": "",
           "title": {
            "standoff": 15
           },
           "zerolinecolor": "white",
           "zerolinewidth": 2
          }
         }
        },
        "title": {
         "text": "Hyperparameter Importances"
        },
        "xaxis": {
         "title": {
          "text": "Hyperparameter Importance"
         }
        },
        "yaxis": {
         "title": {
          "text": "Hyperparameter"
         }
        }
       }
      }
     },
     "metadata": {},
     "output_type": "display_data"
    },
    {
     "name": "stdout",
     "output_type": "stream",
     "text": [
      "Best trial: 55 with value: 0.9894736842105263\n",
      "(\"Best params: {'lambda_l1': 1.626568337537173e-07, 'lambda_l2': \"\n",
      " \"2.0447155774425385e-05, 'num_leaves': 58, 'feature_fraction': \"\n",
      " \"0.5941326115326094, 'bagging_fraction': 0.5189313759506909, 'bagging_freq': \"\n",
      " \"5, 'min_child_samples': 28}\")\n"
     ]
    }
   ],
   "source": [
    "# Add stream handler of stdout to show the messages\n",
    "optuna.logging.set_verbosity(optuna.logging.WARNING)\n",
    "return_list = []\n",
    "n_trials = 20\n",
    "study_stop_cb = verbosityCallback(\n",
    "    model=model\n",
    ")\n",
    "\n",
    "study = optuna.create_study(\n",
    "    direction=\"maximize\",\n",
    "    pruner=optuna.pruners.HyperbandPruner(),\n",
    "    sampler=optuna.samplers.TPESampler(),\n",
    ")\n",
    "study.optimize(objective, n_trials=n_trials, callbacks=[study_stop_cb], n_jobs=-1, show_progress_bar=True)\n",
    "plot_study(study)"
   ]
  },
  {
   "cell_type": "code",
   "execution_count": 10,
   "metadata": {
    "metadata": {}
   },
   "outputs": [],
   "source": [
    "# from sklearn import metrics\n",
    "# def detailed_objective(trial):\n",
    "#     # Use same code objective to reproduce the best model\n",
    "#     X, y = make_classification(n_features=10, random_state=1)\n",
    "#     X_train, X_test, y_train, y_test = train_test_split(X, y, random_state=1)\n",
    "\n",
    "#     C = trial.suggest_float(\"C\", 1e-7, 10.0, log=True)\n",
    "\n",
    "#     clf = LogisticRegression(C=C)\n",
    "#     clf.fit(X_train, y_train)\n",
    "\n",
    "#     # calculate more evaluation metrics\n",
    "#     pred = clf.predict(X_test)\n",
    "\n",
    "#     acc = metrics.accuracy_score(pred, y_test)\n",
    "#     recall = metrics.recall_score(pred, y_test)\n",
    "#     precision = metrics.precision_score(pred, y_test)\n",
    "#     f1 = metrics.f1_score(pred, y_test)\n",
    "\n",
    "#     return acc, f1, recall, precision\n",
    "\n",
    "# detailed_objective(study.best_trial)  # calculate acc, f1, recall, and precision"
   ]
  },
  {
   "cell_type": "markdown",
   "metadata": {},
   "source": [
    "# MLflow integration"
   ]
  },
  {
   "cell_type": "code",
   "execution_count": null,
   "metadata": {
    "metadata": {}
   },
   "outputs": [],
   "source": [
    "import mlflow\n",
    "uri = \"http://127.0.0.1:8080\"\n",
    "mlflow.set_tracking_uri(uri=uri)"
   ]
  },
  {
   "cell_type": "code",
   "execution_count": null,
   "metadata": {
    "metadata": {}
   },
   "outputs": [
    {
     "name": "stderr",
     "output_type": "stream",
     "text": [
      "C:\\Users\\Toon\\AppData\\Local\\Temp\\ipykernel_1968\\832758089.py:3: ExperimentalWarning: MLflowCallback is experimental (supported from v1.4.0). The interface can change in the future.\n",
      "  mlflc = MLflowCallback(\n",
      "[I 2024-04-22 10:00:22,579] A new study created in memory with name: LightBGM-1\n",
      "[I 2024-04-22 10:00:22,621] Trial 0 finished with value: 0.965034965034965 and parameters: {'lambda_l1': 0.04271602670515351, 'lambda_l2': 0.029575573100331147, 'num_leaves': 25, 'feature_fraction': 0.48486206576405266, 'bagging_fraction': 0.5338726276100296, 'bagging_freq': 5, 'min_child_samples': 42}. Best is trial 0 with value: 0.965034965034965.\n",
      "2024/04/22 10:00:22 INFO mlflow.tracking.fluent: Experiment with name 'LightBGM-1' does not exist. Creating a new experiment.\n",
      "[I 2024-04-22 10:00:22,856] Trial 1 finished with value: 0.951048951048951 and parameters: {'lambda_l1': 5.570496620123377e-07, 'lambda_l2': 0.0009705079548096559, 'num_leaves': 11, 'feature_fraction': 0.510632474882694, 'bagging_fraction': 0.8508817109631457, 'bagging_freq': 3, 'min_child_samples': 87}. Best is trial 1 with value: 0.951048951048951.\n",
      "[I 2024-04-22 10:00:23,032] Trial 2 finished with value: 0.972027972027972 and parameters: {'lambda_l1': 8.512463969736947e-07, 'lambda_l2': 0.0003173172746259635, 'num_leaves': 128, 'feature_fraction': 0.5466681705471107, 'bagging_fraction': 0.7271024748450493, 'bagging_freq': 2, 'min_child_samples': 95}. Best is trial 1 with value: 0.951048951048951.\n",
      "[I 2024-04-22 10:00:23,226] Trial 3 finished with value: 0.965034965034965 and parameters: {'lambda_l1': 0.01537673587463111, 'lambda_l2': 4.398504395732078e-05, 'num_leaves': 193, 'feature_fraction': 0.4899253015747958, 'bagging_fraction': 0.8888215438095571, 'bagging_freq': 4, 'min_child_samples': 52}. Best is trial 1 with value: 0.951048951048951.\n",
      "[I 2024-04-22 10:00:23,444] Trial 4 finished with value: 0.965034965034965 and parameters: {'lambda_l1': 1.2272138521405494e-08, 'lambda_l2': 2.8486878086535345e-05, 'num_leaves': 78, 'feature_fraction': 0.5168014321232807, 'bagging_fraction': 0.48414595832627777, 'bagging_freq': 2, 'min_child_samples': 24}. Best is trial 1 with value: 0.951048951048951.\n",
      "[I 2024-04-22 10:00:23,634] Trial 5 finished with value: 0.972027972027972 and parameters: {'lambda_l1': 0.00011463706928220032, 'lambda_l2': 0.008794200634883077, 'num_leaves': 19, 'feature_fraction': 0.6646558568059392, 'bagging_fraction': 0.920321476317461, 'bagging_freq': 4, 'min_child_samples': 51}. Best is trial 1 with value: 0.951048951048951.\n",
      "[I 2024-04-22 10:00:23,824] Trial 6 finished with value: 0.965034965034965 and parameters: {'lambda_l1': 0.369365392674401, 'lambda_l2': 0.00015837887285677314, 'num_leaves': 129, 'feature_fraction': 0.7940829647511455, 'bagging_fraction': 0.8624596852815198, 'bagging_freq': 7, 'min_child_samples': 68}. Best is trial 1 with value: 0.951048951048951.\n",
      "[I 2024-04-22 10:00:24,026] Trial 7 finished with value: 0.986013986013986 and parameters: {'lambda_l1': 3.2111602083748e-05, 'lambda_l2': 1.321958422558528e-07, 'num_leaves': 89, 'feature_fraction': 0.4851034127662592, 'bagging_fraction': 0.9971590077823126, 'bagging_freq': 3, 'min_child_samples': 27}. Best is trial 1 with value: 0.951048951048951.\n",
      "[I 2024-04-22 10:00:24,218] Trial 8 finished with value: 0.965034965034965 and parameters: {'lambda_l1': 1.739486849451315e-07, 'lambda_l2': 0.059801389806639044, 'num_leaves': 164, 'feature_fraction': 0.5472796159215321, 'bagging_fraction': 0.5846367867140864, 'bagging_freq': 4, 'min_child_samples': 39}. Best is trial 1 with value: 0.951048951048951.\n",
      "[I 2024-04-22 10:00:24,401] Trial 9 finished with value: 0.965034965034965 and parameters: {'lambda_l1': 4.117206218528366e-05, 'lambda_l2': 2.837724870607002e-07, 'num_leaves': 144, 'feature_fraction': 0.5401455903571243, 'bagging_fraction': 0.5474989653619454, 'bagging_freq': 3, 'min_child_samples': 73}. Best is trial 1 with value: 0.951048951048951.\n",
      "[I 2024-04-22 10:00:24,602] Trial 10 finished with value: 0.951048951048951 and parameters: {'lambda_l1': 1.1331467216182572e-06, 'lambda_l2': 0.875402028086048, 'num_leaves': 250, 'feature_fraction': 0.9335547239648705, 'bagging_fraction': 0.7287727643014069, 'bagging_freq': 1, 'min_child_samples': 91}. Best is trial 1 with value: 0.951048951048951.\n",
      "[I 2024-04-22 10:00:24,820] Trial 11 finished with value: 0.9790209790209791 and parameters: {'lambda_l1': 1.1848365709218954e-06, 'lambda_l2': 4.430324323366623, 'num_leaves': 242, 'feature_fraction': 0.9957676591357623, 'bagging_fraction': 0.7760150797020823, 'bagging_freq': 1, 'min_child_samples': 91}. Best is trial 1 with value: 0.951048951048951.\n",
      "[I 2024-04-22 10:00:25,033] Trial 12 finished with value: 0.958041958041958 and parameters: {'lambda_l1': 1.1854933854797478e-08, 'lambda_l2': 3.749152394006045, 'num_leaves': 255, 'feature_fraction': 0.938865317009213, 'bagging_fraction': 0.6625964111130642, 'bagging_freq': 1, 'min_child_samples': 82}. Best is trial 1 with value: 0.951048951048951.\n",
      "[I 2024-04-22 10:00:25,247] Trial 13 finished with value: 0.951048951048951 and parameters: {'lambda_l1': 4.821144417626119e-06, 'lambda_l2': 0.3910878636486502, 'num_leaves': 210, 'feature_fraction': 0.8000929110772822, 'bagging_fraction': 0.7929010625608931, 'bagging_freq': 6, 'min_child_samples': 67}. Best is trial 1 with value: 0.951048951048951.\n",
      "[I 2024-04-22 10:00:25,444] Trial 14 finished with value: 0.993006993006993 and parameters: {'lambda_l1': 0.0004191726346840682, 'lambda_l2': 0.0038967239242807144, 'num_leaves': 78, 'feature_fraction': 0.4005888502171251, 'bagging_fraction': 0.6537503349626049, 'bagging_freq': 2, 'min_child_samples': 99}. Best is trial 1 with value: 0.951048951048951.\n",
      "[I 2024-04-22 10:00:25,661] Trial 15 finished with value: 0.951048951048951 and parameters: {'lambda_l1': 0.0014874324670720064, 'lambda_l2': 2.995529624885053e-06, 'num_leaves': 51, 'feature_fraction': 0.6613019100313773, 'bagging_fraction': 0.41003792236696374, 'bagging_freq': 1, 'min_child_samples': 81}. Best is trial 1 with value: 0.951048951048951.\n",
      "[I 2024-04-22 10:00:25,884] Trial 16 finished with value: 0.951048951048951 and parameters: {'lambda_l1': 1.4544132614594246e-07, 'lambda_l2': 0.3433808705838861, 'num_leaves': 3, 'feature_fraction': 0.834934793564413, 'bagging_fraction': 0.8125756938012096, 'bagging_freq': 3, 'min_child_samples': 7}. Best is trial 1 with value: 0.951048951048951.\n",
      "[I 2024-04-22 10:00:26,104] Trial 17 finished with value: 0.951048951048951 and parameters: {'lambda_l1': 5.4589776096819676e-06, 'lambda_l2': 0.001731977079555577, 'num_leaves': 205, 'feature_fraction': 0.8744904056675542, 'bagging_fraction': 0.7202159574754259, 'bagging_freq': 5, 'min_child_samples': 84}. Best is trial 1 with value: 0.951048951048951.\n",
      "[I 2024-04-22 10:00:26,335] Trial 18 finished with value: 0.958041958041958 and parameters: {'lambda_l1': 5.604225324584897, 'lambda_l2': 1.9178087281976774e-08, 'num_leaves': 105, 'feature_fraction': 0.7339413492398995, 'bagging_fraction': 0.9824041929765139, 'bagging_freq': 2, 'min_child_samples': 60}. Best is trial 1 with value: 0.951048951048951.\n",
      "[I 2024-04-22 10:00:26,578] Trial 19 finished with value: 0.958041958041958 and parameters: {'lambda_l1': 2.6806246133134035e-07, 'lambda_l2': 0.2134483097109587, 'num_leaves': 182, 'feature_fraction': 0.6002871998867726, 'bagging_fraction': 0.8367402259379674, 'bagging_freq': 3, 'min_child_samples': 100}. Best is trial 1 with value: 0.951048951048951.\n",
      "[I 2024-04-22 10:00:26,847] Trial 20 finished with value: 0.972027972027972 and parameters: {'lambda_l1': 6.890510722716793e-06, 'lambda_l2': 8.082534075006252e-06, 'num_leaves': 232, 'feature_fraction': 0.7169357732443999, 'bagging_fraction': 0.634423393793656, 'bagging_freq': 5, 'min_child_samples': 76}. Best is trial 1 with value: 0.951048951048951.\n",
      "[I 2024-04-22 10:00:27,096] Trial 21 finished with value: 0.9790209790209791 and parameters: {'lambda_l1': 5.607336384344986e-06, 'lambda_l2': 0.8672876451951184, 'num_leaves': 222, 'feature_fraction': 0.9051983590388154, 'bagging_fraction': 0.733051679817035, 'bagging_freq': 7, 'min_child_samples': 89}. Best is trial 1 with value: 0.951048951048951.\n",
      "[I 2024-04-22 10:00:27,334] Trial 22 finished with value: 0.9300699300699301 and parameters: {'lambda_l1': 1.3160443920698979e-06, 'lambda_l2': 8.439954679068983, 'num_leaves': 213, 'feature_fraction': 0.7950313991448992, 'bagging_fraction': 0.802688858850647, 'bagging_freq': 6, 'min_child_samples': 64}. Best is trial 22 with value: 0.9300699300699301.\n",
      "[I 2024-04-22 10:00:27,554] Trial 23 finished with value: 0.958041958041958 and parameters: {'lambda_l1': 1.4058867986542507e-07, 'lambda_l2': 9.003854218921457, 'num_leaves': 252, 'feature_fraction': 0.9825822992669216, 'bagging_fraction': 0.9240978387484595, 'bagging_freq': 6, 'min_child_samples': 58}. Best is trial 22 with value: 0.9300699300699301.\n",
      "[I 2024-04-22 10:00:27,787] Trial 24 finished with value: 0.986013986013986 and parameters: {'lambda_l1': 3.716815958855314e-08, 'lambda_l2': 1.5423024607120046, 'num_leaves': 174, 'feature_fraction': 0.757868605644251, 'bagging_fraction': 0.7632185248672366, 'bagging_freq': 6, 'min_child_samples': 87}. Best is trial 22 with value: 0.9300699300699301.\n",
      "[I 2024-04-22 10:00:28,013] Trial 25 finished with value: 0.958041958041958 and parameters: {'lambda_l1': 8.440844013111401e-07, 'lambda_l2': 0.059217074291406956, 'num_leaves': 51, 'feature_fraction': 0.8589440575202881, 'bagging_fraction': 0.8485576388168174, 'bagging_freq': 5, 'min_child_samples': 75}. Best is trial 22 with value: 0.9300699300699301.\n",
      "[I 2024-04-22 10:00:28,249] Trial 26 finished with value: 0.9790209790209791 and parameters: {'lambda_l1': 0.0008482833676772925, 'lambda_l2': 0.00038352550070366946, 'num_leaves': 156, 'feature_fraction': 0.9289466544072961, 'bagging_fraction': 0.6839219082201466, 'bagging_freq': 1, 'min_child_samples': 64}. Best is trial 22 with value: 0.9300699300699301.\n",
      "[I 2024-04-22 10:00:28,518] Trial 27 finished with value: 0.993006993006993 and parameters: {'lambda_l1': 4.905919400720061e-05, 'lambda_l2': 0.01004378767793458, 'num_leaves': 213, 'feature_fraction': 0.662069749380241, 'bagging_fraction': 0.9058976522299206, 'bagging_freq': 2, 'min_child_samples': 93}. Best is trial 22 with value: 0.9300699300699301.\n",
      "[I 2024-04-22 10:00:28,767] Trial 28 finished with value: 0.9790209790209791 and parameters: {'lambda_l1': 1.1987169509541662e-06, 'lambda_l2': 0.1214106341015888, 'num_leaves': 193, 'feature_fraction': 0.61075174512713, 'bagging_fraction': 0.947978370215842, 'bagging_freq': 7, 'min_child_samples': 79}. Best is trial 22 with value: 0.9300699300699301.\n",
      "[I 2024-04-22 10:00:29,021] Trial 29 finished with value: 0.958041958041958 and parameters: {'lambda_l1': 5.1620443678971844e-08, 'lambda_l2': 1.4634861865818296, 'num_leaves': 231, 'feature_fraction': 0.4179557156130743, 'bagging_fraction': 0.6066528039488819, 'bagging_freq': 6, 'min_child_samples': 44}. Best is trial 22 with value: 0.9300699300699301.\n"
     ]
    }
   ],
   "source": [
    "from optuna_integration.mlflow import MLflowCallback\n",
    "\n",
    "mlflc = MLflowCallback(\n",
    "    tracking_uri=uri,\n",
    "    metric_name=\"Accuracy\",\n",
    ")\n",
    "\n",
    "study = optuna.create_study(study_name=\"LightBGM-1\")\n",
    "study.optimize(objective, n_trials=30, callbacks=[mlflc])"
   ]
  }
 ],
 "metadata": {
  "kernelspec": {
   "display_name": ".venv",
   "language": "python",
   "name": "python3"
  },
  "language_info": {
   "codemirror_mode": {
    "name": "ipython",
    "version": 3
   },
   "file_extension": ".py",
   "mimetype": "text/x-python",
   "name": "python",
   "nbconvert_exporter": "python",
   "pygments_lexer": "ipython3",
   "version": "3.11.9"
  }
 },
 "nbformat": 4,
 "nbformat_minor": 2
}
