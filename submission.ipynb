{
 "cells": [
  {
   "cell_type": "code",
   "execution_count": 1,
   "metadata": {
    "metadata": {}
   },
   "outputs": [],
   "source": [
    "PATH = \"D:\\.VScode\\SuperAI4\\Image_captioning\\submission_3.csv\""
   ]
  },
  {
   "cell_type": "code",
   "execution_count": 2,
   "metadata": {
    "metadata": {}
   },
   "outputs": [],
   "source": [
    "import pandas as pd\n",
    "import numpy as np"
   ]
  },
  {
   "cell_type": "code",
   "execution_count": 3,
   "metadata": {
    "metadata": {}
   },
   "outputs": [],
   "source": [
    "df = pd.read_csv(PATH)"
   ]
  },
  {
   "cell_type": "code",
   "execution_count": 8,
   "metadata": {
    "metadata": {}
   },
   "outputs": [
    {
     "data": {
      "text/plain": [
       "image_id                               test2017/000000480896\n",
       "caption     จานอาหารสีขาวที่มีขนมปังและส้มวางอยู่ในจานบนโต๊ะ\n",
       "Name: 3, dtype: object"
      ]
     },
     "execution_count": 8,
     "metadata": {},
     "output_type": "execute_result"
    }
   ],
   "source": [
    "df.loc[3]"
   ]
  },
  {
   "cell_type": "code",
   "execution_count": 6,
   "metadata": {
    "metadata": {}
   },
   "outputs": [],
   "source": [
    "f = lambda t: sum(df[\"caption\"].apply(lambda x: str(x).find(t) != -1))"
   ]
  },
  {
   "cell_type": "code",
   "execution_count": 5,
   "metadata": {
    "metadata": {}
   },
   "outputs": [
    {
     "data": {
      "text/plain": [
       "(870, 929)"
      ]
     },
     "execution_count": 5,
     "metadata": {},
     "output_type": "execute_result"
    }
   ],
   "source": [
    "sum(df[\"caption\"].apply(lambda x: str(x).find('หมี') != -1)), sum(df2[\"caption\"].apply(lambda x: str(x).find('หมี') != -1))"
   ]
  },
  {
   "cell_type": "code",
   "execution_count": 6,
   "metadata": {
    "metadata": {}
   },
   "outputs": [
    {
     "data": {
      "text/plain": [
       "(860, 959)"
      ]
     },
     "execution_count": 6,
     "metadata": {},
     "output_type": "execute_result"
    }
   ],
   "source": [
    "sum(df[\"caption\"].apply(lambda x: str(x).find('สุนัข') != -1)), sum(df2[\"caption\"].apply(lambda x: str(x).find('สุนัข') != -1))"
   ]
  },
  {
   "cell_type": "code",
   "execution_count": 11,
   "metadata": {
    "metadata": {}
   },
   "outputs": [
    {
     "data": {
      "text/plain": [
       "1359"
      ]
     },
     "execution_count": 11,
     "metadata": {},
     "output_type": "execute_result"
    }
   ],
   "source": [
    "sum(df[\"caption\"].apply(lambda x: str(x).find('แมว') != -1))"
   ]
  },
  {
   "cell_type": "code",
   "execution_count": 12,
   "metadata": {
    "metadata": {}
   },
   "outputs": [
    {
     "data": {
      "text/plain": [
       "925"
      ]
     },
     "execution_count": 12,
     "metadata": {},
     "output_type": "execute_result"
    }
   ],
   "source": [
    "sum(df[\"caption\"].apply(lambda x: str(x).find('เด็กผู้หญิง') != -1))"
   ]
  },
  {
   "cell_type": "code",
   "execution_count": 5,
   "metadata": {
    "metadata": {}
   },
   "outputs": [
    {
     "data": {
      "text/html": [
       "<div>\n",
       "<style scoped>\n",
       "    .dataframe tbody tr th:only-of-type {\n",
       "        vertical-align: middle;\n",
       "    }\n",
       "\n",
       "    .dataframe tbody tr th {\n",
       "        vertical-align: top;\n",
       "    }\n",
       "\n",
       "    .dataframe thead th {\n",
       "        text-align: right;\n",
       "    }\n",
       "</style>\n",
       "<table border=\"1\" class=\"dataframe\">\n",
       "  <thead>\n",
       "    <tr style=\"text-align: right;\">\n",
       "      <th></th>\n",
       "      <th>image_id</th>\n",
       "      <th>caption</th>\n",
       "    </tr>\n",
       "  </thead>\n",
       "  <tbody>\n",
       "    <tr>\n",
       "      <th>134</th>\n",
       "      <td>test2017/000000093270</td>\n",
       "      <td>เด็กผู้หญิงสวมเสื้อแขนยาวสีม่วงกําลังกินกล้วยส...</td>\n",
       "    </tr>\n",
       "    <tr>\n",
       "      <th>329</th>\n",
       "      <td>test2017/000000492818</td>\n",
       "      <td>สุนัขตัวสีน้ําตาลกําลังนอนอยู่บนเตียงนอนสีม่วง</td>\n",
       "    </tr>\n",
       "    <tr>\n",
       "      <th>353</th>\n",
       "      <td>test2017/000000080986</td>\n",
       "      <td>เด็กผู้หญิง 3 คนสวมเสื้อสีชมพูและสีม่วงกําลังเ...</td>\n",
       "    </tr>\n",
       "    <tr>\n",
       "      <th>904</th>\n",
       "      <td>test2017/000000356168</td>\n",
       "      <td>ผู้ชายและผู้หญิงกําลังนั่งอยู่บนโซฟาสีม่วง</td>\n",
       "    </tr>\n",
       "    <tr>\n",
       "      <th>1020</th>\n",
       "      <td>test2017/000000231473</td>\n",
       "      <td>ผู้หญิงใส่เสื้อสีชมพูกําลังยืนอยู่ข้างเด็กผู้ห...</td>\n",
       "    </tr>\n",
       "    <tr>\n",
       "      <th>...</th>\n",
       "      <td>...</td>\n",
       "      <td>...</td>\n",
       "    </tr>\n",
       "    <tr>\n",
       "      <th>38762</th>\n",
       "      <td>test2017/000000085609</td>\n",
       "      <td>รถบัสสีม่วง 2 ชั้นกําลังจอดอยู่บนถนน ด้านหลังม...</td>\n",
       "    </tr>\n",
       "    <tr>\n",
       "      <th>39735</th>\n",
       "      <td>test2017/000000321077</td>\n",
       "      <td>แจกันดอกไม้และดอกไม้สีม่วงวางอยู่บนโต๊ะไม้สีน้...</td>\n",
       "    </tr>\n",
       "    <tr>\n",
       "      <th>39761</th>\n",
       "      <td>test2017/000000499769</td>\n",
       "      <td>ผู้ชายคนหนึ่งกําลังยืนถือร่มสีชมพูลายสีม่วงและ...</td>\n",
       "    </tr>\n",
       "    <tr>\n",
       "      <th>40032</th>\n",
       "      <td>test2017/000000182066</td>\n",
       "      <td>ผู้ชายสวมเสื้อแขนยาวสีม่วงสวมแว่นตาและกางเกงขา...</td>\n",
       "    </tr>\n",
       "    <tr>\n",
       "      <th>46450</th>\n",
       "      <td>test/travel/05780</td>\n",
       "      <td>ดอกไม้สีม่วงลายดอกไม้สีม่วง วางอยู่ในหญ้าสีเขียว</td>\n",
       "    </tr>\n",
       "  </tbody>\n",
       "</table>\n",
       "<p>69 rows × 2 columns</p>\n",
       "</div>"
      ],
      "text/plain": [
       "                    image_id  \\\n",
       "134    test2017/000000093270   \n",
       "329    test2017/000000492818   \n",
       "353    test2017/000000080986   \n",
       "904    test2017/000000356168   \n",
       "1020   test2017/000000231473   \n",
       "...                      ...   \n",
       "38762  test2017/000000085609   \n",
       "39735  test2017/000000321077   \n",
       "39761  test2017/000000499769   \n",
       "40032  test2017/000000182066   \n",
       "46450      test/travel/05780   \n",
       "\n",
       "                                                 caption  \n",
       "134    เด็กผู้หญิงสวมเสื้อแขนยาวสีม่วงกําลังกินกล้วยส...  \n",
       "329       สุนัขตัวสีน้ําตาลกําลังนอนอยู่บนเตียงนอนสีม่วง  \n",
       "353    เด็กผู้หญิง 3 คนสวมเสื้อสีชมพูและสีม่วงกําลังเ...  \n",
       "904           ผู้ชายและผู้หญิงกําลังนั่งอยู่บนโซฟาสีม่วง  \n",
       "1020   ผู้หญิงใส่เสื้อสีชมพูกําลังยืนอยู่ข้างเด็กผู้ห...  \n",
       "...                                                  ...  \n",
       "38762  รถบัสสีม่วง 2 ชั้นกําลังจอดอยู่บนถนน ด้านหลังม...  \n",
       "39735  แจกันดอกไม้และดอกไม้สีม่วงวางอยู่บนโต๊ะไม้สีน้...  \n",
       "39761  ผู้ชายคนหนึ่งกําลังยืนถือร่มสีชมพูลายสีม่วงและ...  \n",
       "40032  ผู้ชายสวมเสื้อแขนยาวสีม่วงสวมแว่นตาและกางเกงขา...  \n",
       "46450   ดอกไม้สีม่วงลายดอกไม้สีม่วง วางอยู่ในหญ้าสีเขียว  \n",
       "\n",
       "[69 rows x 2 columns]"
      ]
     },
     "execution_count": 5,
     "metadata": {},
     "output_type": "execute_result"
    }
   ],
   "source": [
    "df[df[\"caption\"].apply(lambda x: str(x).find('ม่วง') != -1)]\n"
   ]
  },
  {
   "cell_type": "code",
   "execution_count": 12,
   "metadata": {
    "metadata": {}
   },
   "outputs": [
    {
     "data": {
      "text/plain": [
       "51"
      ]
     },
     "execution_count": 12,
     "metadata": {},
     "output_type": "execute_result"
    }
   ],
   "source": [
    "sum(df2[\"caption\"].apply(lambda x: str(x).find('วง') != -1))\n"
   ]
  },
  {
   "cell_type": "code",
   "execution_count": 13,
   "metadata": {
    "metadata": {}
   },
   "outputs": [
    {
     "data": {
      "text/plain": [
       "681"
      ]
     },
     "execution_count": 13,
     "metadata": {},
     "output_type": "execute_result"
    }
   ],
   "source": [
    "sum(df[\"caption\"].apply(lambda x: str(x).find('เค้ก') != -1))"
   ]
  },
  {
   "cell_type": "code",
   "execution_count": 14,
   "metadata": {
    "metadata": {}
   },
   "outputs": [
    {
     "data": {
      "text/plain": [
       "992"
      ]
     },
     "execution_count": 14,
     "metadata": {},
     "output_type": "execute_result"
    }
   ],
   "source": [
    "sum(df[\"caption\"].apply(lambda x: str(x).find('เครื่องบิน') != -1))"
   ]
  },
  {
   "cell_type": "code",
   "execution_count": 15,
   "metadata": {
    "metadata": {}
   },
   "outputs": [
    {
     "data": {
      "text/plain": [
       "63"
      ]
     },
     "execution_count": 15,
     "metadata": {},
     "output_type": "execute_result"
    }
   ],
   "source": [
    "sum(df[\"caption\"].apply(lambda x: str(x).find('เครื่องปั่น') != -1))"
   ]
  },
  {
   "cell_type": "code",
   "execution_count": 18,
   "metadata": {
    "metadata": {}
   },
   "outputs": [
    {
     "data": {
      "text/plain": [
       "703"
      ]
     },
     "execution_count": 18,
     "metadata": {},
     "output_type": "execute_result"
    }
   ],
   "source": [
    "sum(df[\"caption\"].apply(lambda x: str(x).find('เรือ') != -1))"
   ]
  },
  {
   "cell_type": "code",
   "execution_count": null,
   "metadata": {},
   "outputs": [],
   "source": []
  }
 ],
 "metadata": {
  "kernelspec": {
   "display_name": ".ai_conda",
   "language": "python",
   "name": "python3"
  },
  "language_info": {
   "codemirror_mode": {
    "name": "ipython",
    "version": 3
   },
   "file_extension": ".py",
   "mimetype": "text/x-python",
   "name": "python",
   "nbconvert_exporter": "python",
   "pygments_lexer": "ipython3",
   "version": "3.11.9"
  }
 },
 "nbformat": 4,
 "nbformat_minor": 2
}
